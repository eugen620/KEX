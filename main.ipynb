{
 "cells": [
  {
   "cell_type": "code",
   "execution_count": 1,
   "id": "ceb63f15-0a52-4f3b-9d9f-c27bb470a3e3",
   "metadata": {},
   "outputs": [
    {
     "data": {
      "application/vnd.jupyter.widget-view+json": {
       "model_id": "9ecfcca70f3c4ec8a9d632665517596b",
       "version_major": 2,
       "version_minor": 0
      },
      "text/plain": []
     },
     "metadata": {},
     "output_type": "display_data"
    }
   ],
   "source": [
    "from script import KEX\n",
    "\n",
    "obj = KEX('2q0s_clean.pdb')"
   ]
  },
  {
   "cell_type": "code",
   "execution_count": 2,
   "id": "b9851221-4a03-4073-83b1-0624bd0b3d5f",
   "metadata": {},
   "outputs": [],
   "source": [
    "obj.mutations(subunits=[\"A\", \"B\"], positions = (3), mutations= \"All\")"
   ]
  },
  {
   "cell_type": "code",
   "execution_count": 3,
   "id": "1e519814-412c-4133-bd7b-1fcc093a7c69",
   "metadata": {},
   "outputs": [
    {
     "data": {
      "text/plain": [
       "['2q0s_clean.pdb',\n",
       " 'K3A.pdb',\n",
       " 'K3R.pdb',\n",
       " 'K3N.pdb',\n",
       " 'K3D.pdb',\n",
       " 'K3C.pdb',\n",
       " 'K3Q.pdb',\n",
       " 'K3E.pdb',\n",
       " 'K3G.pdb',\n",
       " 'K3H.pdb',\n",
       " 'K3I.pdb',\n",
       " 'K3L.pdb',\n",
       " 'K3M.pdb',\n",
       " 'K3F.pdb',\n",
       " 'K3P.pdb',\n",
       " 'K3S.pdb',\n",
       " 'K3T.pdb',\n",
       " 'K3W.pdb',\n",
       " 'K3Y.pdb',\n",
       " 'K3V.pdb']"
      ]
     },
     "execution_count": 3,
     "metadata": {},
     "output_type": "execute_result"
    }
   ],
   "source": [
    "obj.pdb_filenames"
   ]
  },
  {
   "cell_type": "code",
   "execution_count": 4,
   "id": "432270cf-e072-4edb-a7b1-2c87e085cf83",
   "metadata": {},
   "outputs": [],
   "source": [
    "# obj.clean_up_pdb_dir()"
   ]
  }
 ],
 "metadata": {
  "kernelspec": {
   "display_name": "Python 3 (ipykernel)",
   "language": "python",
   "name": "python3"
  },
  "language_info": {
   "codemirror_mode": {
    "name": "ipython",
    "version": 3
   },
   "file_extension": ".py",
   "mimetype": "text/x-python",
   "name": "python",
   "nbconvert_exporter": "python",
   "pygments_lexer": "ipython3",
   "version": "3.12.7"
  }
 },
 "nbformat": 4,
 "nbformat_minor": 5
}
