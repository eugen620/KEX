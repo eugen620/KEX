{
 "cells": [
  {
   "cell_type": "code",
   "execution_count": 1,
   "id": "b9851221-4a03-4073-83b1-0624bd0b3d5f",
   "metadata": {},
   "outputs": [],
   "source": [
    "# obj.mutations(subunits=[\"A\"], positions = (3), mutations= \"All\") #Skapar alla kombinationer av mutationer på en viss position"
   ]
  },
  {
   "cell_type": "code",
   "execution_count": 2,
   "id": "ceb63f15-0a52-4f3b-9d9f-c27bb470a3e3",
   "metadata": {},
   "outputs": [
    {
     "data": {
      "application/vnd.jupyter.widget-view+json": {
       "model_id": "2135122cd0964105bcdfdd3c4bcca73d",
       "version_major": 2,
       "version_minor": 0
      },
      "text/plain": []
     },
     "metadata": {},
     "output_type": "display_data"
    },
    {
     "data": {
      "text/html": [
       "<div>\n",
       "<style scoped>\n",
       "    .dataframe tbody tr th:only-of-type {\n",
       "        vertical-align: middle;\n",
       "    }\n",
       "\n",
       "    .dataframe tbody tr th {\n",
       "        vertical-align: top;\n",
       "    }\n",
       "\n",
       "    .dataframe thead th {\n",
       "        text-align: right;\n",
       "    }\n",
       "</style>\n",
       "<table border=\"1\" class=\"dataframe\">\n",
       "  <thead>\n",
       "    <tr style=\"text-align: right;\">\n",
       "      <th></th>\n",
       "      <th>R (kcal/mol)</th>\n",
       "      <th>S (kcal/mol)</th>\n",
       "    </tr>\n",
       "  </thead>\n",
       "  <tbody>\n",
       "    <tr>\n",
       "      <th>2q0s_clean</th>\n",
       "      <td>-5.3</td>\n",
       "      <td>-5.4</td>\n",
       "    </tr>\n",
       "    <tr>\n",
       "      <th>F150V_F154V</th>\n",
       "      <td>-4.8</td>\n",
       "      <td>-4.8</td>\n",
       "    </tr>\n",
       "    <tr>\n",
       "      <th>F154V_F174V</th>\n",
       "      <td>-5.0</td>\n",
       "      <td>-5.0</td>\n",
       "    </tr>\n",
       "  </tbody>\n",
       "</table>\n",
       "</div>"
      ],
      "text/plain": [
       "             R (kcal/mol)  S (kcal/mol)\n",
       "2q0s_clean           -5.3          -5.4\n",
       "F150V_F154V          -4.8          -4.8\n",
       "F154V_F174V          -5.0          -5.0"
      ]
     },
     "execution_count": 2,
     "metadata": {},
     "output_type": "execute_result"
    }
   ],
   "source": [
    "from script import KEX\n",
    "\n",
    "d = KEX('2q0s.pdb')\n",
    "\n",
    "d.mutations(subunits = \"All\", positions = (150, 154), mutations = (\"VAL\", \"VAL\"))\n",
    "d.mutations(subunits = \"All\", positions = (154, 174), mutations = (\"VAL\", \"VAL\"))\n",
    "\n",
    "d.create_pdbqt()\n",
    "\n",
    "d.mol_to_pdbqt(\"R.mol\")\n",
    "d.mol_to_pdbqt(\"S.mol\")\n",
    "\n",
    "center = d.find_molecule_coordinates(\"N10\", \"A\") \n",
    "df = d.windows_docking(center)\n",
    "\n",
    "df"
   ]
  }
 ],
 "metadata": {
  "kernelspec": {
   "display_name": "Python 3 (ipykernel)",
   "language": "python",
   "name": "python3"
  },
  "language_info": {
   "codemirror_mode": {
    "name": "ipython",
    "version": 3
   },
   "file_extension": ".py",
   "mimetype": "text/x-python",
   "name": "python",
   "nbconvert_exporter": "python",
   "pygments_lexer": "ipython3",
   "version": "3.12.7"
  }
 },
 "nbformat": 4,
 "nbformat_minor": 5
}
