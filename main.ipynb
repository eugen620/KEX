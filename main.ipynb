{
 "cells": [
  {
   "cell_type": "code",
   "execution_count": 1,
   "id": "b9851221-4a03-4073-83b1-0624bd0b3d5f",
   "metadata": {},
   "outputs": [],
   "source": [
    "# obj.mutations(subunits=[\"A\"], positions = (3), mutations= \"All\") #Skapar alla kombinationer av mutationer på en viss position"
   ]
  },
  {
   "cell_type": "code",
   "execution_count": 2,
   "id": "ceb63f15-0a52-4f3b-9d9f-c27bb470a3e3",
   "metadata": {},
   "outputs": [
    {
     "data": {
      "application/vnd.jupyter.widget-view+json": {
       "model_id": "46eb5a038f37453fb7e424d7b9c9ab25",
       "version_major": 2,
       "version_minor": 0
      },
      "text/plain": []
     },
     "metadata": {},
     "output_type": "display_data"
    },
    {
     "data": {
      "text/html": [
       "<div>\n",
       "<style scoped>\n",
       "    .dataframe tbody tr th:only-of-type {\n",
       "        vertical-align: middle;\n",
       "    }\n",
       "\n",
       "    .dataframe tbody tr th {\n",
       "        vertical-align: top;\n",
       "    }\n",
       "\n",
       "    .dataframe thead th {\n",
       "        text-align: right;\n",
       "    }\n",
       "</style>\n",
       "<table border=\"1\" class=\"dataframe\">\n",
       "  <thead>\n",
       "    <tr style=\"text-align: right;\">\n",
       "      <th></th>\n",
       "      <th>R_substrate (kcal/mol)</th>\n",
       "      <th>S_substrate (kcal/mol)</th>\n",
       "    </tr>\n",
       "  </thead>\n",
       "  <tbody>\n",
       "    <tr>\n",
       "      <th>2q0s_acetyl_clean</th>\n",
       "      <td>-4.9</td>\n",
       "      <td>-4.9</td>\n",
       "    </tr>\n",
       "    <tr>\n",
       "      <th>F150V_F154V_acetyl</th>\n",
       "      <td>-4.9</td>\n",
       "      <td>-4.9</td>\n",
       "    </tr>\n",
       "    <tr>\n",
       "      <th>F154V_F174V_acetyl</th>\n",
       "      <td>-4.7</td>\n",
       "      <td>-4.6</td>\n",
       "    </tr>\n",
       "  </tbody>\n",
       "</table>\n",
       "</div>"
      ],
      "text/plain": [
       "                    R_substrate (kcal/mol)  S_substrate (kcal/mol)\n",
       "2q0s_acetyl_clean                     -4.9                    -4.9\n",
       "F150V_F154V_acetyl                    -4.9                    -4.9\n",
       "F154V_F174V_acetyl                    -4.7                    -4.6"
      ]
     },
     "execution_count": 2,
     "metadata": {},
     "output_type": "execute_result"
    }
   ],
   "source": [
    "from script import KEX\n",
    "\n",
    "s = KEX('2q0s_acetyl.pdb')\n",
    "s.clean_up_dir(\"docking_results\")\n",
    "s.clean_up_dir(\"pdbqt\")\n",
    "\n",
    "\n",
    "s.mutations(subunits = \"All\", positions = (150, 154), mutations = (\"VAL\", \"VAL\"), label = \"acetyl\")\n",
    "s.mutations(subunits = \"All\", positions = (154, 174), mutations = (\"VAL\", \"VAL\"), label = \"acetyl\")\n",
    "\n",
    "s.create_pdbqt_no_charges()\n",
    "\n",
    "s.mol_to_pdbqt(\"R_substrate.mol\")\n",
    "s.mol_to_pdbqt(\"S_substrate.mol\")\n",
    "\n",
    "#center = d.find_molecule_coordinates(\"N10\", \"A\") \n",
    "center = (22.721043365249557, 57.6562179849733, 30.330812924930342)\n",
    "df = s.windows_docking(center)\n",
    "\n",
    "df"
   ]
  },
  {
   "cell_type": "code",
   "execution_count": 3,
   "id": "9e97c2b1-77b0-4d13-8a9a-583cd4c0bd89",
   "metadata": {},
   "outputs": [
    {
     "data": {
      "text/html": [
       "<div>\n",
       "<style scoped>\n",
       "    .dataframe tbody tr th:only-of-type {\n",
       "        vertical-align: middle;\n",
       "    }\n",
       "\n",
       "    .dataframe tbody tr th {\n",
       "        vertical-align: top;\n",
       "    }\n",
       "\n",
       "    .dataframe thead th {\n",
       "        text-align: right;\n",
       "    }\n",
       "</style>\n",
       "<table border=\"1\" class=\"dataframe\">\n",
       "  <thead>\n",
       "    <tr style=\"text-align: right;\">\n",
       "      <th></th>\n",
       "      <th>R_product (kcal/mol)</th>\n",
       "      <th>S_product (kcal/mol)</th>\n",
       "    </tr>\n",
       "  </thead>\n",
       "  <tbody>\n",
       "    <tr>\n",
       "      <th>2q0s_serine_clean</th>\n",
       "      <td>-5.8</td>\n",
       "      <td>-5.8</td>\n",
       "    </tr>\n",
       "    <tr>\n",
       "      <th>F150V_F154V_serin</th>\n",
       "      <td>-5.5</td>\n",
       "      <td>-5.5</td>\n",
       "    </tr>\n",
       "    <tr>\n",
       "      <th>F154V_F174V_serin</th>\n",
       "      <td>-5.7</td>\n",
       "      <td>-5.7</td>\n",
       "    </tr>\n",
       "  </tbody>\n",
       "</table>\n",
       "</div>"
      ],
      "text/plain": [
       "                   R_product (kcal/mol)  S_product (kcal/mol)\n",
       "2q0s_serine_clean                  -5.8                  -5.8\n",
       "F150V_F154V_serin                  -5.5                  -5.5\n",
       "F154V_F174V_serin                  -5.7                  -5.7"
      ]
     },
     "execution_count": 3,
     "metadata": {},
     "output_type": "execute_result"
    }
   ],
   "source": [
    "from script import KEX\n",
    "\n",
    "p = KEX('2q0s_serine.pdb')\n",
    "\n",
    "\n",
    "p.mutations(subunits = \"All\", positions = (150, 154), mutations = (\"VAL\", \"VAL\"), label = \"serin\")\n",
    "p.mutations(subunits = \"All\", positions = (154, 174), mutations = (\"VAL\", \"VAL\"), label = \"serin\")\n",
    "\n",
    "p.create_pdbqt_no_charges()\n",
    "\n",
    "p.mol_to_pdbqt(\"R_product.mol\")\n",
    "p.mol_to_pdbqt(\"S_product.mol\")\n",
    "\n",
    "#center = d.find_molecule_coordinates(\"N10\", \"A\") \n",
    "center = (22.721043365249557, 57.6562179849733, 30.330812924930342)\n",
    "df = p.windows_docking(center)\n",
    "\n",
    "df"
   ]
  },
  {
   "cell_type": "code",
   "execution_count": 4,
   "id": "d0254027-3601-4c27-a4d9-59d784460554",
   "metadata": {},
   "outputs": [],
   "source": [
    "#d.clean_up_dir(\"pdb\")"
   ]
  },
  {
   "cell_type": "code",
   "execution_count": null,
   "id": "18b631de-30e0-4833-ad17-e0769a31ecd1",
   "metadata": {},
   "outputs": [],
   "source": []
  }
 ],
 "metadata": {
  "kernelspec": {
   "display_name": "Python 3 (ipykernel)",
   "language": "python",
   "name": "python3"
  },
  "language_info": {
   "codemirror_mode": {
    "name": "ipython",
    "version": 3
   },
   "file_extension": ".py",
   "mimetype": "text/x-python",
   "name": "python",
   "nbconvert_exporter": "python",
   "pygments_lexer": "ipython3",
   "version": "3.12.7"
  }
 },
 "nbformat": 4,
 "nbformat_minor": 5
}
