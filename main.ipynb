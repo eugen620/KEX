{
 "cells": [
  {
   "cell_type": "code",
   "execution_count": 1,
   "id": "b9851221-4a03-4073-83b1-0624bd0b3d5f",
   "metadata": {},
   "outputs": [],
   "source": [
    "#obj.mutations(subunits=[\"A\"], positions = (3), mutations= \"All\") #Skapar alla kombinationer av mutationer på en viss position\n"
   ]
  },
  {
   "cell_type": "code",
   "execution_count": 2,
   "id": "ceb63f15-0a52-4f3b-9d9f-c27bb470a3e3",
   "metadata": {},
   "outputs": [
    {
     "data": {
      "application/vnd.jupyter.widget-view+json": {
       "model_id": "f8192e367d184bd7ac5a3617eec62fdd",
       "version_major": 2,
       "version_minor": 0
      },
      "text/plain": []
     },
     "metadata": {},
     "output_type": "display_data"
    },
    {
     "name": "stderr",
     "output_type": "stream",
     "text": [
      "C:\\Users\\eugen\\miniconda3\\envs\\kd1500\\Lib\\site-packages\\MDAnalysis\\coordinates\\PDBQT.py:296: UserWarning: Supplied AtomGroup was missing the following attributes: altLocs, occupancies, tempfactors. These will be written with default values. \n",
      "  warnings.warn(\n"
     ]
    }
   ],
   "source": [
    "from script import KEX\n",
    "\n",
    "d = KEX('2q0s_clean.pdb')\n",
    "d.clean_up_dir(\"pdb\")\n",
    "d.clean_up_dir(\"pdbqt\")\n",
    "\n",
    "d.mutations(subunits=\"All\", positions = (150, 154), mutations= [\"VAL\", \"VAL\"])\n",
    "d.mutations(subunits=\"All\", positions = (154, 174), mutations= [\"VAL\", \"VAL\"])\n",
    "\n",
    "d.create_pdbqt() # Få bort UserWarning\n",
    "\n",
    "d.mol_to_pdbqt(\"R.mol\")\n",
    "\n",
    "center = (22.72104, 57.656217, 30.330812) # ska fixas i klassen senare\n",
    "d.windows_docking(center)"
   ]
  }
 ],
 "metadata": {
  "kernelspec": {
   "display_name": "Python 3 (ipykernel)",
   "language": "python",
   "name": "python3"
  },
  "language_info": {
   "codemirror_mode": {
    "name": "ipython",
    "version": 3
   },
   "file_extension": ".py",
   "mimetype": "text/x-python",
   "name": "python",
   "nbconvert_exporter": "python",
   "pygments_lexer": "ipython3",
   "version": "3.12.7"
  }
 },
 "nbformat": 4,
 "nbformat_minor": 5
}
