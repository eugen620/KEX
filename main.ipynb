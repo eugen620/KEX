{
 "cells": [
  {
   "cell_type": "code",
   "execution_count": 1,
   "id": "ceb63f15-0a52-4f3b-9d9f-c27bb470a3e3",
   "metadata": {},
   "outputs": [
    {
     "data": {
      "application/vnd.jupyter.widget-view+json": {
       "model_id": "a3bc5f8c36f64e8a959d5362e1d8b26c",
       "version_major": 2,
       "version_minor": 0
      },
      "text/plain": []
     },
     "metadata": {},
     "output_type": "display_data"
    }
   ],
   "source": [
    "from script import KEX\n",
    "\n",
    "obj = KEX('2q0s_clean.pdb')\n",
    "obj.clean_up_dir(\"pdb\")\n",
    "obj.clean_up_dir(\"pdbqt\")"
   ]
  },
  {
   "cell_type": "code",
   "execution_count": 2,
   "id": "b9851221-4a03-4073-83b1-0624bd0b3d5f",
   "metadata": {},
   "outputs": [],
   "source": [
    "#obj.mutations(subunits=[\"A\"], positions = (3), mutations= \"All\") #Skapar alla kombinationer av mutationer på en viss position\n",
    "obj.mutations(subunits=\"All\", positions = (150, 154), mutations= [\"VAL\", \"VAL\"])\n",
    "obj.mutations(subunits=\"All\", positions = (154, 174), mutations= [\"VAL\", \"VAL\"])"
   ]
  },
  {
   "cell_type": "code",
   "execution_count": 3,
   "id": "a4311669-758b-4489-9168-fe045d69d686",
   "metadata": {},
   "outputs": [
    {
     "name": "stderr",
     "output_type": "stream",
     "text": [
      "C:\\Users\\eugen\\miniconda3\\envs\\kd1500\\Lib\\site-packages\\MDAnalysis\\coordinates\\PDBQT.py:296: UserWarning: Supplied AtomGroup was missing the following attributes: altLocs, occupancies, tempfactors. These will be written with default values. \n",
      "  warnings.warn(\n"
     ]
    }
   ],
   "source": [
    "obj.create_pdbqt() # Få bort UserWarning"
   ]
  },
  {
   "cell_type": "code",
   "execution_count": 4,
   "id": "1e519814-412c-4133-bd7b-1fcc093a7c69",
   "metadata": {},
   "outputs": [
    {
     "name": "stdout",
     "output_type": "stream",
     "text": [
      "['2q0s_clean.pdb', 'F150V_F154V.pdb', 'F154V_F174V.pdb']\n",
      "['2q0s_clean.pdbqt', 'F150V_F154V.pdbqt', 'F154V_F174V.pdbqt']\n"
     ]
    }
   ],
   "source": [
    "print(obj.pdb_filenames)\n",
    "print(obj.pdbqt_filenames)"
   ]
  },
  {
   "cell_type": "code",
   "execution_count": null,
   "id": "5404bab1-d175-4995-a941-f09632e7a7b0",
   "metadata": {},
   "outputs": [],
   "source": []
  }
 ],
 "metadata": {
  "kernelspec": {
   "display_name": "Python 3 (ipykernel)",
   "language": "python",
   "name": "python3"
  },
  "language_info": {
   "codemirror_mode": {
    "name": "ipython",
    "version": 3
   },
   "file_extension": ".py",
   "mimetype": "text/x-python",
   "name": "python",
   "nbconvert_exporter": "python",
   "pygments_lexer": "ipython3",
   "version": "3.12.7"
  }
 },
 "nbformat": 4,
 "nbformat_minor": 5
}
