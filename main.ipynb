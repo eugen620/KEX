{
 "cells": [
  {
   "cell_type": "code",
   "execution_count": 1,
   "id": "b9851221-4a03-4073-83b1-0624bd0b3d5f",
   "metadata": {},
   "outputs": [],
   "source": [
    "# obj.mutations(subunits=[\"A\"], positions = (3), mutations= \"All\") #Skapar alla kombinationer av mutationer på en viss position"
   ]
  },
  {
   "cell_type": "code",
   "execution_count": 2,
   "id": "ceb63f15-0a52-4f3b-9d9f-c27bb470a3e3",
   "metadata": {},
   "outputs": [
    {
     "data": {
      "application/vnd.jupyter.widget-view+json": {
       "model_id": "84006054570841ac961735c93afeaa0c",
       "version_major": 2,
       "version_minor": 0
      },
      "text/plain": []
     },
     "metadata": {},
     "output_type": "display_data"
    },
    {
     "ename": "KeyboardInterrupt",
     "evalue": "",
     "output_type": "error",
     "traceback": [
      "\u001b[1;31m---------------------------------------------------------------------------\u001b[0m",
      "\u001b[1;31mKeyboardInterrupt\u001b[0m                         Traceback (most recent call last)",
      "Cell \u001b[1;32mIn[2], line 11\u001b[0m\n\u001b[0;32m      8\u001b[0m s\u001b[38;5;241m.\u001b[39mmutations(subunits \u001b[38;5;241m=\u001b[39m \u001b[38;5;124m\"\u001b[39m\u001b[38;5;124mAll\u001b[39m\u001b[38;5;124m\"\u001b[39m, positions \u001b[38;5;241m=\u001b[39m (\u001b[38;5;241m150\u001b[39m, \u001b[38;5;241m154\u001b[39m), mutations \u001b[38;5;241m=\u001b[39m (\u001b[38;5;124m\"\u001b[39m\u001b[38;5;124mVAL\u001b[39m\u001b[38;5;124m\"\u001b[39m, \u001b[38;5;124m\"\u001b[39m\u001b[38;5;124mVAL\u001b[39m\u001b[38;5;124m\"\u001b[39m), label \u001b[38;5;241m=\u001b[39m \u001b[38;5;124m\"\u001b[39m\u001b[38;5;124macetyl\u001b[39m\u001b[38;5;124m\"\u001b[39m)\n\u001b[0;32m      9\u001b[0m s\u001b[38;5;241m.\u001b[39mmutations(subunits \u001b[38;5;241m=\u001b[39m \u001b[38;5;124m\"\u001b[39m\u001b[38;5;124mAll\u001b[39m\u001b[38;5;124m\"\u001b[39m, positions \u001b[38;5;241m=\u001b[39m (\u001b[38;5;241m154\u001b[39m, \u001b[38;5;241m174\u001b[39m), mutations \u001b[38;5;241m=\u001b[39m (\u001b[38;5;124m\"\u001b[39m\u001b[38;5;124mVAL\u001b[39m\u001b[38;5;124m\"\u001b[39m, \u001b[38;5;124m\"\u001b[39m\u001b[38;5;124mVAL\u001b[39m\u001b[38;5;124m\"\u001b[39m), label \u001b[38;5;241m=\u001b[39m \u001b[38;5;124m\"\u001b[39m\u001b[38;5;124macetyl\u001b[39m\u001b[38;5;124m\"\u001b[39m)\n\u001b[1;32m---> 11\u001b[0m \u001b[43ms\u001b[49m\u001b[38;5;241;43m.\u001b[39;49m\u001b[43mcreate_pdbqt_no_charges\u001b[49m\u001b[43m(\u001b[49m\u001b[43m)\u001b[49m\n\u001b[0;32m     13\u001b[0m s\u001b[38;5;241m.\u001b[39mmol_to_pdbqt(\u001b[38;5;124m\"\u001b[39m\u001b[38;5;124mR_substrate.mol\u001b[39m\u001b[38;5;124m\"\u001b[39m)\n\u001b[0;32m     14\u001b[0m s\u001b[38;5;241m.\u001b[39mmol_to_pdbqt(\u001b[38;5;124m\"\u001b[39m\u001b[38;5;124mS_substrate.mol\u001b[39m\u001b[38;5;124m\"\u001b[39m)\n",
      "File \u001b[1;32m~\\KTH\\KEX\\script.py:306\u001b[0m, in \u001b[0;36mKEX.create_pdbqt_no_charges\u001b[1;34m(self)\u001b[0m\n\u001b[0;32m    304\u001b[0m \u001b[38;5;28;01mwith\u001b[39;00m warnings\u001b[38;5;241m.\u001b[39mcatch_warnings():\n\u001b[0;32m    305\u001b[0m     warnings\u001b[38;5;241m.\u001b[39msimplefilter(\u001b[38;5;124m\"\u001b[39m\u001b[38;5;124mignore\u001b[39m\u001b[38;5;124m\"\u001b[39m, \u001b[38;5;167;01mUserWarning\u001b[39;00m)\n\u001b[1;32m--> 306\u001b[0m     u \u001b[38;5;241m=\u001b[39m \u001b[43mmda\u001b[49m\u001b[38;5;241;43m.\u001b[39;49m\u001b[43mUniverse\u001b[49m\u001b[43m(\u001b[49m\u001b[38;5;124;43mf\u001b[39;49m\u001b[38;5;124;43m\"\u001b[39;49m\u001b[38;5;132;43;01m{\u001b[39;49;00m\u001b[38;5;28;43mself\u001b[39;49m\u001b[38;5;241;43m.\u001b[39;49m\u001b[43mpdb_dir\u001b[49m\u001b[38;5;132;43;01m}\u001b[39;49;00m\u001b[38;5;124;43m/\u001b[39;49m\u001b[38;5;132;43;01m{\u001b[39;49;00m\u001b[43mfilename\u001b[49m\u001b[38;5;132;43;01m}\u001b[39;49;00m\u001b[38;5;124;43m.pdb\u001b[39;49m\u001b[38;5;124;43m\"\u001b[39;49m\u001b[43m)\u001b[49m\n\u001b[0;32m    307\u001b[0m     u\u001b[38;5;241m.\u001b[39matoms\u001b[38;5;241m.\u001b[39mwrite(\u001b[38;5;124mf\u001b[39m\u001b[38;5;124m'\u001b[39m\u001b[38;5;132;01m{\u001b[39;00m\u001b[38;5;28mself\u001b[39m\u001b[38;5;241m.\u001b[39mpdbqt_dir\u001b[38;5;132;01m}\u001b[39;00m\u001b[38;5;124m/\u001b[39m\u001b[38;5;132;01m{\u001b[39;00mfilename\u001b[38;5;132;01m}\u001b[39;00m\u001b[38;5;124m_temp.pdbqt\u001b[39m\u001b[38;5;124m'\u001b[39m)\n\u001b[0;32m    309\u001b[0m \u001b[38;5;28;01mwith\u001b[39;00m \u001b[38;5;28mopen\u001b[39m(\u001b[38;5;124mf\u001b[39m\u001b[38;5;124m\"\u001b[39m\u001b[38;5;132;01m{\u001b[39;00m\u001b[38;5;28mself\u001b[39m\u001b[38;5;241m.\u001b[39mpdbqt_dir\u001b[38;5;132;01m}\u001b[39;00m\u001b[38;5;124m/\u001b[39m\u001b[38;5;132;01m{\u001b[39;00mfilename\u001b[38;5;132;01m}\u001b[39;00m\u001b[38;5;124m_temp.pdbqt\u001b[39m\u001b[38;5;124m\"\u001b[39m) \u001b[38;5;28;01mas\u001b[39;00m rf, \u001b[38;5;28mopen\u001b[39m(\u001b[38;5;124mf\u001b[39m\u001b[38;5;124m\"\u001b[39m\u001b[38;5;132;01m{\u001b[39;00m\u001b[38;5;28mself\u001b[39m\u001b[38;5;241m.\u001b[39mpdbqt_dir\u001b[38;5;132;01m}\u001b[39;00m\u001b[38;5;124m/\u001b[39m\u001b[38;5;132;01m{\u001b[39;00mfilename\u001b[38;5;132;01m}\u001b[39;00m\u001b[38;5;124m.pdbqt\u001b[39m\u001b[38;5;124m\"\u001b[39m, \u001b[38;5;124m'\u001b[39m\u001b[38;5;124mw\u001b[39m\u001b[38;5;124m'\u001b[39m) \u001b[38;5;28;01mas\u001b[39;00m wf:\n",
      "File \u001b[1;32m~\\miniconda3\\envs\\kd1500\\Lib\\site-packages\\MDAnalysis\\core\\universe.py:417\u001b[0m, in \u001b[0;36mUniverse.__init__\u001b[1;34m(self, topology, all_coordinates, format, topology_format, transformations, guess_bonds, vdwradii, fudge_factor, lower_bound, in_memory, context, to_guess, force_guess, in_memory_step, *coordinates, **kwargs)\u001b[0m\n\u001b[0;32m    415\u001b[0m \u001b[38;5;28;01mif\u001b[39;00m \u001b[38;5;129;01mnot\u001b[39;00m \u001b[38;5;28misinstance\u001b[39m(topology, Topology) \u001b[38;5;129;01mand\u001b[39;00m \u001b[38;5;129;01mnot\u001b[39;00m topology \u001b[38;5;129;01mis\u001b[39;00m \u001b[38;5;28;01mNone\u001b[39;00m:\n\u001b[0;32m    416\u001b[0m     \u001b[38;5;28mself\u001b[39m\u001b[38;5;241m.\u001b[39mfilename \u001b[38;5;241m=\u001b[39m _check_file_like(topology)\n\u001b[1;32m--> 417\u001b[0m     topology \u001b[38;5;241m=\u001b[39m \u001b[43m_topology_from_file_like\u001b[49m\u001b[43m(\u001b[49m\u001b[38;5;28;43mself\u001b[39;49m\u001b[38;5;241;43m.\u001b[39;49m\u001b[43mfilename\u001b[49m\u001b[43m,\u001b[49m\n\u001b[0;32m    418\u001b[0m \u001b[43m                                        \u001b[49m\u001b[43mtopology_format\u001b[49m\u001b[38;5;241;43m=\u001b[39;49m\u001b[43mtopology_format\u001b[49m\u001b[43m,\u001b[49m\n\u001b[0;32m    419\u001b[0m \u001b[43m                                        \u001b[49m\u001b[38;5;241;43m*\u001b[39;49m\u001b[38;5;241;43m*\u001b[39;49m\u001b[43mkwargs\u001b[49m\u001b[43m)\u001b[49m\n\u001b[0;32m    421\u001b[0m \u001b[38;5;28;01mif\u001b[39;00m topology \u001b[38;5;129;01mis\u001b[39;00m \u001b[38;5;129;01mnot\u001b[39;00m \u001b[38;5;28;01mNone\u001b[39;00m:\n\u001b[0;32m    422\u001b[0m     \u001b[38;5;28mself\u001b[39m\u001b[38;5;241m.\u001b[39m_topology \u001b[38;5;241m=\u001b[39m topology\n",
      "File \u001b[1;32m~\\miniconda3\\envs\\kd1500\\Lib\\site-packages\\MDAnalysis\\core\\universe.py:113\u001b[0m, in \u001b[0;36m_topology_from_file_like\u001b[1;34m(topology_file, topology_format, **kwargs)\u001b[0m\n\u001b[0;32m    111\u001b[0m \u001b[38;5;28;01mtry\u001b[39;00m:\n\u001b[0;32m    112\u001b[0m     \u001b[38;5;28;01mwith\u001b[39;00m parser(topology_file) \u001b[38;5;28;01mas\u001b[39;00m p:\n\u001b[1;32m--> 113\u001b[0m         topology \u001b[38;5;241m=\u001b[39m \u001b[43mp\u001b[49m\u001b[38;5;241;43m.\u001b[39;49m\u001b[43mparse\u001b[49m\u001b[43m(\u001b[49m\u001b[38;5;241;43m*\u001b[39;49m\u001b[38;5;241;43m*\u001b[39;49m\u001b[43mkwargs\u001b[49m\u001b[43m)\u001b[49m\n\u001b[0;32m    114\u001b[0m \u001b[38;5;28;01mexcept\u001b[39;00m (\u001b[38;5;167;01mIOError\u001b[39;00m, \u001b[38;5;167;01mOSError\u001b[39;00m) \u001b[38;5;28;01mas\u001b[39;00m err:\n\u001b[0;32m    115\u001b[0m     \u001b[38;5;66;03m# There are 2 kinds of errors that might be raised here:\u001b[39;00m\n\u001b[0;32m    116\u001b[0m     \u001b[38;5;66;03m# one because the file isn't present\u001b[39;00m\n\u001b[0;32m    117\u001b[0m     \u001b[38;5;66;03m# or the permissions are bad, second when the parser fails\u001b[39;00m\n\u001b[0;32m    118\u001b[0m     \u001b[38;5;28;01mif\u001b[39;00m (err\u001b[38;5;241m.\u001b[39merrno \u001b[38;5;129;01mis\u001b[39;00m \u001b[38;5;129;01mnot\u001b[39;00m \u001b[38;5;28;01mNone\u001b[39;00m \u001b[38;5;129;01mand\u001b[39;00m\n\u001b[0;32m    119\u001b[0m         errno\u001b[38;5;241m.\u001b[39merrorcode[err\u001b[38;5;241m.\u001b[39merrno] \u001b[38;5;129;01min\u001b[39;00m [\u001b[38;5;124m'\u001b[39m\u001b[38;5;124mENOENT\u001b[39m\u001b[38;5;124m'\u001b[39m, \u001b[38;5;124m'\u001b[39m\u001b[38;5;124mEACCES\u001b[39m\u001b[38;5;124m'\u001b[39m]):\n\u001b[0;32m    120\u001b[0m         \u001b[38;5;66;03m# Runs if the error is propagated due to no permission / file not found\u001b[39;00m\n",
      "File \u001b[1;32m~\\miniconda3\\envs\\kd1500\\Lib\\site-packages\\MDAnalysis\\topology\\PDBParser.py:215\u001b[0m, in \u001b[0;36mPDBParser.parse\u001b[1;34m(self, **kwargs)\u001b[0m\n\u001b[0;32m    208\u001b[0m \u001b[38;5;28;01mdef\u001b[39;00m \u001b[38;5;21mparse\u001b[39m(\u001b[38;5;28mself\u001b[39m, \u001b[38;5;241m*\u001b[39m\u001b[38;5;241m*\u001b[39mkwargs):\n\u001b[0;32m    209\u001b[0m \u001b[38;5;250m    \u001b[39m\u001b[38;5;124;03m\"\"\"Parse atom information from PDB file\u001b[39;00m\n\u001b[0;32m    210\u001b[0m \n\u001b[0;32m    211\u001b[0m \u001b[38;5;124;03m    Returns\u001b[39;00m\n\u001b[0;32m    212\u001b[0m \u001b[38;5;124;03m    -------\u001b[39;00m\n\u001b[0;32m    213\u001b[0m \u001b[38;5;124;03m    MDAnalysis Topology object\u001b[39;00m\n\u001b[0;32m    214\u001b[0m \u001b[38;5;124;03m    \"\"\"\u001b[39;00m\n\u001b[1;32m--> 215\u001b[0m     top \u001b[38;5;241m=\u001b[39m \u001b[38;5;28;43mself\u001b[39;49m\u001b[38;5;241;43m.\u001b[39;49m\u001b[43m_parseatoms\u001b[49m\u001b[43m(\u001b[49m\u001b[43m)\u001b[49m\n\u001b[0;32m    217\u001b[0m     \u001b[38;5;28;01mtry\u001b[39;00m:\n\u001b[0;32m    218\u001b[0m         bonds \u001b[38;5;241m=\u001b[39m \u001b[38;5;28mself\u001b[39m\u001b[38;5;241m.\u001b[39m_parsebonds(top\u001b[38;5;241m.\u001b[39mids\u001b[38;5;241m.\u001b[39mvalues)\n",
      "File \u001b[1;32m~\\miniconda3\\envs\\kd1500\\Lib\\site-packages\\MDAnalysis\\topology\\PDBParser.py:348\u001b[0m, in \u001b[0;36mPDBParser._parseatoms\u001b[1;34m(self)\u001b[0m\n\u001b[0;32m    346\u001b[0m             warnings\u001b[38;5;241m.\u001b[39mwarn(wmsg)\n\u001b[0;32m    347\u001b[0m             validated_elements\u001b[38;5;241m.\u001b[39mappend(\u001b[38;5;124m'\u001b[39m\u001b[38;5;124m'\u001b[39m)\n\u001b[1;32m--> 348\u001b[0m     attrs\u001b[38;5;241m.\u001b[39mappend(\u001b[43mElements\u001b[49m\u001b[43m(\u001b[49m\u001b[43mnp\u001b[49m\u001b[38;5;241;43m.\u001b[39;49m\u001b[43marray\u001b[49m\u001b[43m(\u001b[49m\u001b[43mvalidated_elements\u001b[49m\u001b[43m,\u001b[49m\u001b[43m \u001b[49m\u001b[43mdtype\u001b[49m\u001b[38;5;241;43m=\u001b[39;49m\u001b[38;5;28;43mobject\u001b[39;49m\u001b[43m)\u001b[49m\u001b[43m)\u001b[49m)\n\u001b[0;32m    349\u001b[0m \u001b[38;5;28;01melse\u001b[39;00m:\n\u001b[0;32m    350\u001b[0m     warnings\u001b[38;5;241m.\u001b[39mwarn(\u001b[38;5;124m\"\u001b[39m\u001b[38;5;124mElement information is missing, elements attribute \u001b[39m\u001b[38;5;124m\"\u001b[39m\n\u001b[0;32m    351\u001b[0m                   \u001b[38;5;124m\"\u001b[39m\u001b[38;5;124mwill not be populated. If needed these can be\u001b[39m\u001b[38;5;124m\"\u001b[39m\n\u001b[0;32m    352\u001b[0m                   \u001b[38;5;124m\"\u001b[39m\u001b[38;5;124m guessed using universe.guess_TopologyAttrs(\u001b[39m\u001b[38;5;124m\"\u001b[39m\n\u001b[0;32m    353\u001b[0m                   \u001b[38;5;124m\"\u001b[39m\u001b[38;5;124mcontext=\u001b[39m\u001b[38;5;124m'\u001b[39m\u001b[38;5;124mdefault\u001b[39m\u001b[38;5;124m'\u001b[39m\u001b[38;5;124m, to_guess=[\u001b[39m\u001b[38;5;124m'\u001b[39m\u001b[38;5;124melements\u001b[39m\u001b[38;5;124m'\u001b[39m\u001b[38;5;124m]).\u001b[39m\u001b[38;5;124m\"\u001b[39m)\n",
      "\u001b[1;31mKeyboardInterrupt\u001b[0m: "
     ]
    }
   ],
   "source": [
    "from script import KEX\n",
    "\n",
    "s = KEX('2q0s_acetyl.pdb')\n",
    "s.clean_up_dir(\"docking_results\")\n",
    "s.clean_up_dir(\"pdbqt\")\n",
    "\n",
    "\n",
    "s.mutations(subunits = \"All\", positions = (150, 154), mutations = (\"VAL\", \"VAL\"), label = \"acetyl\")\n",
    "s.mutations(subunits = \"All\", positions = (154, 174), mutations = (\"VAL\", \"VAL\"), label = \"acetyl\")\n",
    "\n",
    "s.create_pdbqt_no_charges()\n",
    "\n",
    "s.mol_to_pdbqt(\"R_substrate.mol\")\n",
    "s.mol_to_pdbqt(\"S_substrate.mol\")\n",
    "\n",
    "#center = d.find_molecule_coordinates(\"N10\", \"A\") \n",
    "center = (22.721043365249557, 57.6562179849733, 30.330812924930342)\n",
    "df = s.windows_docking(center)\n",
    "\n",
    "df"
   ]
  },
  {
   "cell_type": "code",
   "execution_count": null,
   "id": "9e97c2b1-77b0-4d13-8a9a-583cd4c0bd89",
   "metadata": {},
   "outputs": [],
   "source": [
    "from script import KEX\n",
    "\n",
    "p = KEX('2q0s_serine.pdb')\n",
    "\n",
    "\n",
    "p.mutations(subunits = \"All\", positions = (150, 154), mutations = (\"VAL\", \"VAL\"), label = \"serin\")\n",
    "p.mutations(subunits = \"All\", positions = (154, 174), mutations = (\"VAL\", \"VAL\"), label = \"serin\")\n",
    "\n",
    "p.create_pdbqt_no_charges()\n",
    "\n",
    "p.mol_to_pdbqt(\"R_product.mol\")\n",
    "p.mol_to_pdbqt(\"S_product.mol\")\n",
    "\n",
    "#center = d.find_molecule_coordinates(\"N10\", \"A\") \n",
    "center = (22.721043365249557, 57.6562179849733, 30.330812924930342)\n",
    "df = p.windows_docking(center)\n",
    "\n",
    "df"
   ]
  },
  {
   "cell_type": "code",
   "execution_count": null,
   "id": "d0254027-3601-4c27-a4d9-59d784460554",
   "metadata": {},
   "outputs": [],
   "source": [
    "#d.clean_up_dir(\"pdb\")"
   ]
  },
  {
   "cell_type": "code",
   "execution_count": 6,
   "id": "4af341c5-8734-4537-b061-6ed319084537",
   "metadata": {},
   "outputs": [],
   "source": [
    "from script import KEX\n",
    "\n",
    "m = KEX('2q0s_full.pdb')\n",
    "# s.clean_up_dir(\"docking_results\")\n",
    "# s.clean_up_dir(\"pdbqt\")\n",
    "\n",
    "\n"
   ]
  },
  {
   "cell_type": "code",
   "execution_count": 6,
   "id": "1d030b39-0c13-44cc-8d2e-43854fce6064",
   "metadata": {},
   "outputs": [],
   "source": [
    "m.mutations(subunits = \"All\", positions = (149, 153), mutations = (\"VAL\", \"VAL\"), label = \"serine)\n",
    "m.mutations(subunits = \"All\", positions = (153, 173), mutations = (\"VAL\", \"VAL\"), label = \"serine\")"
   ]
  },
  {
   "cell_type": "code",
   "execution_count": 5,
   "id": "12c9ef59-e529-4964-a9f0-5d5d13a03951",
   "metadata": {},
   "outputs": [
    {
     "ename": "PermissionError",
     "evalue": "[WinError 32] The process cannot access the file because it is being used by another process: 'C:\\\\Users\\\\eugen\\\\KTH\\\\KEX\\\\pdb\\\\2q0s_acetyl_clean.pdb'",
     "output_type": "error",
     "traceback": [
      "\u001b[1;31m---------------------------------------------------------------------------\u001b[0m",
      "\u001b[1;31mPermissionError\u001b[0m                           Traceback (most recent call last)",
      "Cell \u001b[1;32mIn[5], line 1\u001b[0m\n\u001b[1;32m----> 1\u001b[0m \u001b[43mm\u001b[49m\u001b[38;5;241;43m.\u001b[39;49m\u001b[43mclean_up_dir\u001b[49m\u001b[43m(\u001b[49m\u001b[38;5;124;43m\"\u001b[39;49m\u001b[38;5;124;43mpdb\u001b[39;49m\u001b[38;5;124;43m\"\u001b[39;49m\u001b[43m)\u001b[49m\n",
      "File \u001b[1;32m~\\KTH\\KEX\\script.py:95\u001b[0m, in \u001b[0;36mKEX.clean_up_dir\u001b[1;34m(self, directory)\u001b[0m\n\u001b[0;32m     93\u001b[0m file_path \u001b[38;5;241m=\u001b[39m os\u001b[38;5;241m.\u001b[39mpath\u001b[38;5;241m.\u001b[39mjoin(directory, filename)\n\u001b[0;32m     94\u001b[0m \u001b[38;5;28;01mif\u001b[39;00m os\u001b[38;5;241m.\u001b[39mpath\u001b[38;5;241m.\u001b[39misfile(file_path):\n\u001b[1;32m---> 95\u001b[0m     \u001b[43mos\u001b[49m\u001b[38;5;241;43m.\u001b[39;49m\u001b[43mremove\u001b[49m\u001b[43m(\u001b[49m\u001b[43mfile_path\u001b[49m\u001b[43m)\u001b[49m\n",
      "\u001b[1;31mPermissionError\u001b[0m: [WinError 32] The process cannot access the file because it is being used by another process: 'C:\\\\Users\\\\eugen\\\\KTH\\\\KEX\\\\pdb\\\\2q0s_acetyl_clean.pdb'"
     ]
    }
   ],
   "source": [
    "m.clean_up_dir(\"pdb\")"
   ]
  },
  {
   "cell_type": "code",
   "execution_count": null,
   "id": "d9c28f8e-2a27-4674-850e-f20010341b65",
   "metadata": {},
   "outputs": [],
   "source": [
    "m.create_pdbqt()"
   ]
  },
  {
   "cell_type": "code",
   "execution_count": null,
   "id": "ff14c7de-02e9-4a16-880d-a7b31902cb5f",
   "metadata": {},
   "outputs": [],
   "source": []
  }
 ],
 "metadata": {
  "kernelspec": {
   "display_name": "Python 3 (ipykernel)",
   "language": "python",
   "name": "python3"
  },
  "language_info": {
   "codemirror_mode": {
    "name": "ipython",
    "version": 3
   },
   "file_extension": ".py",
   "mimetype": "text/x-python",
   "name": "python",
   "nbconvert_exporter": "python",
   "pygments_lexer": "ipython3",
   "version": "3.12.7"
  }
 },
 "nbformat": 4,
 "nbformat_minor": 5
}
