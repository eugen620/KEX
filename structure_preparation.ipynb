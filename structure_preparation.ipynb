{
 "cells": [
  {
   "cell_type": "code",
   "execution_count": 1,
   "id": "4af341c5-8734-4537-b061-6ed319084537",
   "metadata": {},
   "outputs": [
    {
     "data": {
      "application/vnd.jupyter.widget-view+json": {
       "model_id": "cbc22df9e69f4cdda975a538ba6b3943",
       "version_major": 2,
       "version_minor": 0
      },
      "text/plain": []
     },
     "metadata": {},
     "output_type": "display_data"
    }
   ],
   "source": [
    "from script import KEX\n",
    "\n",
    "m = KEX('2q0s_full.pdb')"
   ]
  },
  {
   "cell_type": "code",
   "execution_count": 2,
   "id": "1d030b39-0c13-44cc-8d2e-43854fce6064",
   "metadata": {},
   "outputs": [],
   "source": [
    "m.mutations(subunits = \"All\", positions = (149, 153), mutations = (\"VAL\", \"VAL\"), label = \"serine\")\n",
    "m.mutations(subunits = \"All\", positions = (153, 173), mutations = (\"VAL\", \"VAL\"), label = \"serine\")"
   ]
  },
  {
   "cell_type": "code",
   "execution_count": 4,
   "id": "12c9ef59-e529-4964-a9f0-5d5d13a03951",
   "metadata": {},
   "outputs": [
    {
     "name": "stdout",
     "output_type": "stream",
     "text": [
      "Running MD simulation on 2q0s_full_clean\n",
      "File saved as 2q0s_full_clean_md.pdb\n",
      "Running MD simulation on F149V_F153V_serine\n",
      "File saved as F149V_F153V_serine_md.pdb\n",
      "Running MD simulation on F153V_F173V_serine\n",
      "File saved as F153V_F173V_serine_md.pdb\n"
     ]
    }
   ],
   "source": [
    "m.molecular_dynamics()"
   ]
  },
  {
   "cell_type": "code",
   "execution_count": 6,
   "id": "d9c28f8e-2a27-4674-850e-f20010341b65",
   "metadata": {},
   "outputs": [],
   "source": [
    "m.create_pdbqt()"
   ]
  }
 ],
 "metadata": {
  "kernelspec": {
   "display_name": "Python 3 (ipykernel)",
   "language": "python",
   "name": "python3"
  },
  "language_info": {
   "codemirror_mode": {
    "name": "ipython",
    "version": 3
   },
   "file_extension": ".py",
   "mimetype": "text/x-python",
   "name": "python",
   "nbconvert_exporter": "python",
   "pygments_lexer": "ipython3",
   "version": "3.12.7"
  }
 },
 "nbformat": 4,
 "nbformat_minor": 5
}
