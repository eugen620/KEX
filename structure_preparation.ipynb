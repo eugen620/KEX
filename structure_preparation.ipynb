{
 "cells": [
  {
   "cell_type": "code",
   "execution_count": 1,
   "id": "4af341c5-8734-4537-b061-6ed319084537",
   "metadata": {},
   "outputs": [
    {
     "data": {
      "application/vnd.jupyter.widget-view+json": {
       "model_id": "431a5fdd91bc4cd7bdd16664a9ce3791",
       "version_major": 2,
       "version_minor": 0
      },
      "text/plain": []
     },
     "metadata": {},
     "output_type": "display_data"
    }
   ],
   "source": [
    "from script import KEX"
   ]
  },
  {
   "cell_type": "markdown",
   "id": "c2c2983d-7c3f-4cff-8e61-4f675328e1f8",
   "metadata": {},
   "source": [
    "## Initiate class with processed 2q0s"
   ]
  },
  {
   "cell_type": "code",
   "execution_count": 2,
   "id": "4f4d481f-9341-4db8-9242-a1ea40b234c2",
   "metadata": {},
   "outputs": [],
   "source": [
    "m = KEX('2q0s_processed.pdb')"
   ]
  },
  {
   "cell_type": "markdown",
   "id": "93216aff-94cf-474c-bfc7-dac11113a049",
   "metadata": {},
   "source": [
    "## Creating mutations"
   ]
  },
  {
   "cell_type": "code",
   "execution_count": 3,
   "id": "1d030b39-0c13-44cc-8d2e-43854fce6064",
   "metadata": {},
   "outputs": [
    {
     "name": "stdout",
     "output_type": "stream",
     "text": [
      "Mutated structure saved as: F149V_F153V_serine.pdb\n",
      "Mutated structure saved as: F153V_F173V_serine.pdb\n"
     ]
    }
   ],
   "source": [
    "m.mutations(subunits = \"All\", positions = (149, 153), mutations = (\"VAL\", \"VAL\"), label = \"serine\")\n",
    "m.mutations(subunits = \"All\", positions = (153, 173), mutations = (\"VAL\", \"VAL\"), label = \"serine\")"
   ]
  },
  {
   "cell_type": "markdown",
   "id": "70b397ad-c01b-41a1-8774-4bd842aa8110",
   "metadata": {},
   "source": [
    "## Running molecular dynamics on all structures"
   ]
  },
  {
   "cell_type": "code",
   "execution_count": 4,
   "id": "12c9ef59-e529-4964-a9f0-5d5d13a03951",
   "metadata": {},
   "outputs": [
    {
     "name": "stdout",
     "output_type": "stream",
     "text": [
      "Processing 2q0s_processed_clean.pdb...\n",
      "Minimizing energy...\n",
      "Running 10000 MD steps at 300 K...\n",
      "Minimizing energy after MD...\n",
      "File saved as: 2q0s_processed_clean_md.pdb\n",
      "\n",
      "Processing F149V_F153V_serine.pdb...\n",
      "Minimizing energy...\n",
      "Running 10000 MD steps at 300 K...\n",
      "Minimizing energy after MD...\n",
      "File saved as: F149V_F153V_serine_md.pdb\n",
      "\n",
      "Processing F153V_F173V_serine.pdb...\n",
      "Minimizing energy...\n",
      "Running 10000 MD steps at 300 K...\n",
      "Minimizing energy after MD...\n",
      "File saved as: F153V_F173V_serine_md.pdb\n",
      "\n"
     ]
    }
   ],
   "source": [
    "m.run_molecular_dynamics(temperature=300, simulation_steps=10000)"
   ]
  },
  {
   "cell_type": "markdown",
   "id": "dea8ac57-5af6-4f05-94e9-4e519a27336c",
   "metadata": {},
   "source": [
    "## Calculating charges and creating pdbqt files"
   ]
  },
  {
   "cell_type": "code",
   "execution_count": 5,
   "id": "d9c28f8e-2a27-4674-850e-f20010341b65",
   "metadata": {},
   "outputs": [
    {
     "name": "stdout",
     "output_type": "stream",
     "text": [
      "File saved as: 2q0s_processed_clean_md.pdbqt\n",
      "File saved as: F149V_F153V_serine_md.pdbqt\n",
      "File saved as: F153V_F173V_serine_md.pdbqt\n"
     ]
    }
   ],
   "source": [
    "m.pdb2pdbqt()"
   ]
  }
 ],
 "metadata": {
  "kernelspec": {
   "display_name": "Python 3 (ipykernel)",
   "language": "python",
   "name": "python3"
  },
  "language_info": {
   "codemirror_mode": {
    "name": "ipython",
    "version": 3
   },
   "file_extension": ".py",
   "mimetype": "text/x-python",
   "name": "python",
   "nbconvert_exporter": "python",
   "pygments_lexer": "ipython3",
   "version": "3.12.7"
  }
 },
 "nbformat": 4,
 "nbformat_minor": 5
}
