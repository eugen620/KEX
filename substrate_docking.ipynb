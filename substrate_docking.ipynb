{
 "cells": [
  {
   "cell_type": "code",
   "execution_count": 1,
   "id": "db728cf6-03f5-488b-95e3-c788826df818",
   "metadata": {},
   "outputs": [
    {
     "data": {
      "application/vnd.jupyter.widget-view+json": {
       "model_id": "1ad38c8288e8409bacde6a02086f729b",
       "version_major": 2,
       "version_minor": 0
      },
      "text/plain": []
     },
     "metadata": {},
     "output_type": "display_data"
    }
   ],
   "source": [
    "\n",
    "from script import KEX\n"
   ]
  },
  {
   "cell_type": "markdown",
   "id": "dba3d4a5-16eb-4dd5-b9e1-85738335b07e",
   "metadata": {},
   "source": [
    "## Ladda in 2q0s"
   ]
  },
  {
   "cell_type": "code",
   "execution_count": 2,
   "id": "450c577c-c8da-4618-b12d-316c0e75e2f6",
   "metadata": {},
   "outputs": [],
   "source": [
    "s = KEX(\"2q0s_full.pdb\")"
   ]
  },
  {
   "cell_type": "markdown",
   "id": "8a66feae-f99c-4478-b4f2-9948014b3d32",
   "metadata": {},
   "source": [
    "## Skapa liganderna "
   ]
  },
  {
   "cell_type": "code",
   "execution_count": 3,
   "id": "0a6b19e6-c4ec-4ac7-abcd-54ddfa7ceab8",
   "metadata": {},
   "outputs": [
    {
     "name": "stdout",
     "output_type": "stream",
     "text": [
      "Molecule saved as S_substrate.mol\n",
      "Molecule saved as R_substrate.mol\n"
     ]
    }
   ],
   "source": [
    "s.create_molecule(smiles = \"C[C@H](O)c1ccccc1\", name = \"S_substrate\", show_structure= False)\n",
    "s.create_molecule(smiles = \"C[C@@H](O)c1ccccc1\", name = \"R_substrate\", show_structure= False)"
   ]
  },
  {
   "cell_type": "code",
   "execution_count": 4,
   "id": "ed97c0a1-6341-4163-900a-f5fcc090be7a",
   "metadata": {},
   "outputs": [],
   "source": [
    "s.mol_to_pdbqt_new(\"S_substrate.mol\", add_ligand = True)\n",
    "s.mol_to_pdbqt_new(\"R_substrate.mol\", add_ligand = True)"
   ]
  },
  {
   "cell_type": "markdown",
   "id": "9b07c567-69e4-457d-be67-08f1f28c0226",
   "metadata": {},
   "source": [
    "## Acetylerat serin"
   ]
  },
  {
   "attachments": {
    "dd053280-080a-4daa-884f-416323989552.png": {
     "image/png": "[encoded data removed]"
    }
   },
   "cell_type": "markdown",
   "id": "63de682f-47f2-4e60-aae1-432527791bf0",
   "metadata": {},
   "source": [
    "![image.png](attachment:dd053280-080a-4daa-884f-416323989552.png)"
   ]
  },
  {
   "cell_type": "code",
   "execution_count": 5,
   "id": "80950f04-1d19-4d9e-8894-c4892b564073",
   "metadata": {},
   "outputs": [
    {
     "name": "stdout",
     "output_type": "stream",
     "text": [
      "Molecule saved as acetyl_serine.mol\n"
     ]
    }
   ],
   "source": [
    "s.create_molecule(smiles = \"N[C@@H](COC(=O)C)C(=O)O\", name = \"acetyl_serine\", show_structure= False)"
   ]
  },
  {
   "cell_type": "code",
   "execution_count": 6,
   "id": "5c4b99bd-0121-4ac8-982f-ea5c7f451efb",
   "metadata": {},
   "outputs": [],
   "source": [
    "s.mol_to_pdbqt_new(\"acetyl_serine.mol\", add_ligand = False)"
   ]
  },
  {
   "cell_type": "markdown",
   "id": "e9502ca1-462c-4007-bf67-a76592aeb155",
   "metadata": {},
   "source": [
    "## Acetyleringen som ska byggas i pymol"
   ]
  },
  {
   "cell_type": "markdown",
   "id": "01dc681f-c8b9-444e-abd0-465e74229443",
   "metadata": {},
   "source": [
    "- ATOM     14  C   UNK     1       1.948  -0.352   0.284  0.00  0.00    +0.304 C \n",
    "- ATOM     15  O   UNK     1       1.824  -1.101   1.242  0.00  0.00    -0.251 OA\n",
    "- BRANCH  14  16\n",
    "- ATOM     16  C   UNK     1       3.181   0.440  -0.025  0.00  0.00    +0.033 C \n",
    "- ATOM     17  H   UNK     1       2.950   1.508  -0.003  0.00  0.00    +0.034 HD\n",
    "- ATOM     18  H   UNK     1       3.944   0.232   0.731  0.00  0.00    +0.034 HD\n",
    "- ATOM     19  H   UNK     1       3.572   0.150  -1.003  0.00  0.00    +0.034 HD"
   ]
  },
  {
   "cell_type": "markdown",
   "id": "ff12fe08-ec7c-4c75-916e-bb3c48a4a5b9",
   "metadata": {},
   "source": [
    "## Konvertering från pqr till pdbqt"
   ]
  },
  {
   "cell_type": "code",
   "execution_count": 7,
   "id": "59993a31-347e-4581-ac2b-1905ba712cb2",
   "metadata": {},
   "outputs": [],
   "source": [
    "# fixa "
   ]
  },
  {
   "cell_type": "markdown",
   "id": "56197ca9-79a4-4d49-a910-16713d390db5",
   "metadata": {},
   "source": [
    "## Docking i smina"
   ]
  },
  {
   "cell_type": "code",
   "execution_count": 8,
   "id": "7dc84d1a-fc59-4d7d-af86-abe17ec3a742",
   "metadata": {},
   "outputs": [
    {
     "data": {
      "text/html": [
       "<div>\n",
       "<style scoped>\n",
       "    .dataframe tbody tr th:only-of-type {\n",
       "        vertical-align: middle;\n",
       "    }\n",
       "\n",
       "    .dataframe tbody tr th {\n",
       "        vertical-align: top;\n",
       "    }\n",
       "\n",
       "    .dataframe thead th {\n",
       "        text-align: right;\n",
       "    }\n",
       "</style>\n",
       "<table border=\"1\" class=\"dataframe\">\n",
       "  <thead>\n",
       "    <tr style=\"text-align: right;\">\n",
       "      <th></th>\n",
       "      <th>S_substrate (kcal/mol)</th>\n",
       "      <th>R_substrate (kcal/mol)</th>\n",
       "    </tr>\n",
       "  </thead>\n",
       "  <tbody>\n",
       "    <tr>\n",
       "      <th>2q0s_acetyl_new</th>\n",
       "      <td>-6.192452</td>\n",
       "      <td>-6.286190</td>\n",
       "    </tr>\n",
       "    <tr>\n",
       "      <th>F149V_F153V_acetyl_md_fardig</th>\n",
       "      <td>-5.298216</td>\n",
       "      <td>-5.342927</td>\n",
       "    </tr>\n",
       "    <tr>\n",
       "      <th>F153V_F173V_acetyl_md_fardig</th>\n",
       "      <td>-5.916883</td>\n",
       "      <td>-5.968106</td>\n",
       "    </tr>\n",
       "  </tbody>\n",
       "</table>\n",
       "</div>"
      ],
      "text/plain": [
       "                              S_substrate (kcal/mol)  R_substrate (kcal/mol)\n",
       "2q0s_acetyl_new                            -6.192452               -6.286190\n",
       "F149V_F153V_acetyl_md_fardig               -5.298216               -5.342927\n",
       "F153V_F173V_acetyl_md_fardig               -5.916883               -5.968106"
      ]
     },
     "execution_count": 8,
     "metadata": {},
     "output_type": "execute_result"
    }
   ],
   "source": [
    "s.pdbqt_filenames = [\"2q0s_acetyl_new.pdbqt\", \"F149V_F153V_acetyl_md_fardig.pdbqt\", \"F153V_F173V_acetyl_md_fardig.pdbqt\"]\n",
    "df = s.smina_docking(center=(20.7, 54.6, 28.3), boxsize=18, scoring_file=\"custom_scoring_new.txt\")\n",
    "df"
   ]
  }
 ],
 "metadata": {
  "kernelspec": {
   "display_name": "Python 3 (ipykernel)",
   "language": "python",
   "name": "python3"
  },
  "language_info": {
   "codemirror_mode": {
    "name": "ipython",
    "version": 3
   },
   "file_extension": ".py",
   "mimetype": "text/x-python",
   "name": "python",
   "nbconvert_exporter": "python",
   "pygments_lexer": "ipython3",
   "version": "3.12.7"
  }
 },
 "nbformat": 4,
 "nbformat_minor": 5
}
