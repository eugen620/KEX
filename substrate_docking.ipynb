{
 "cells": [
  {
   "cell_type": "code",
   "execution_count": 13,
   "id": "db728cf6-03f5-488b-95e3-c788826df818",
   "metadata": {},
   "outputs": [],
   "source": [
    "import nglview as nv\n",
    "from script import KEX\n",
    "from openbabel import openbabel"
   ]
  },
  {
   "cell_type": "markdown",
   "id": "1b19ae1b-1b81-47c0-934c-54fd7a12e664",
   "metadata": {},
   "source": [
    "## Förbereda 2q0s filen"
   ]
  },
  {
   "cell_type": "markdown",
   "id": "afff18d3-c394-49bf-9817-490963656cf1",
   "metadata": {},
   "source": [
    " - Inhibitor tas bort manuellt i pymol\n",
    " - Serinet modifieras i openbabel via konvertering via xyz format"
   ]
  },
  {
   "cell_type": "code",
   "execution_count": 12,
   "id": "357641b0-53b0-4aee-87df-63708b3d0491",
   "metadata": {},
   "outputs": [],
   "source": [
    "def pdb_to_xyz_to_pdb(input_pdb):\n",
    "    obConversion = openbabel.OBConversion()\n",
    "    \n",
    "    # Läs in PDB\n",
    "    obConversion.SetInAndOutFormats(\"pdb\", \"xyz\")\n",
    "    mol = openbabel.OBMol()\n",
    "    obConversion.ReadFile(mol, input_pdb)\n",
    "    \n",
    "    # Skriv till XYZ\n",
    "    obConversion.WriteFile(mol, \"temp.xyz\")\n",
    "    obConversion.CloseOutFile()\n",
    "    \n",
    "    # Läs in XYZ\n",
    "    obConversion = openbabel.OBConversion()\n",
    "    obConversion.SetInAndOutFormats(\"xyz\", \"pdb\")\n",
    "    mol2 = openbabel.OBMol()\n",
    "    obConversion.ReadFile(mol2, \"temp.xyz\")\n",
    "    \n",
    "    # Skriv till slutlig PDB\n",
    "    obConversion.WriteFile(mol2, \"test.pdb\")\n",
    "    obConversion.CloseOutFile()"
   ]
  },
  {
   "cell_type": "code",
   "execution_count": 3,
   "id": "694ce7f9-1abd-47db-a75b-5122efc569f2",
   "metadata": {},
   "outputs": [],
   "source": [
    "pdb_to_xyz_to_pdb(\"pymol_2q0s_serine.pdb\")\n",
    "#Får inte ut någon ändring av SER"
   ]
  },
  {
   "cell_type": "markdown",
   "id": "dba3d4a5-16eb-4dd5-b9e1-85738335b07e",
   "metadata": {},
   "source": [
    "## Ladda in 2q0s"
   ]
  },
  {
   "cell_type": "code",
   "execution_count": 15,
   "id": "450c577c-c8da-4618-b12d-316c0e75e2f6",
   "metadata": {},
   "outputs": [],
   "source": [
    "s = KEX(\"2q0s_full.pdb\")"
   ]
  },
  {
   "cell_type": "markdown",
   "id": "8a66feae-f99c-4478-b4f2-9948014b3d32",
   "metadata": {},
   "source": [
    "## Skapa liganderna "
   ]
  },
  {
   "cell_type": "code",
   "execution_count": 16,
   "id": "0a6b19e6-c4ec-4ac7-abcd-54ddfa7ceab8",
   "metadata": {},
   "outputs": [
    {
     "name": "stdout",
     "output_type": "stream",
     "text": [
      "Molecule saved as S_substrate.mol\n",
      "Molecule saved as R_substrate.mol\n"
     ]
    }
   ],
   "source": [
    "s.create_molecule(smiles = \"C[C@H](O)c1ccccc1\", name = \"S_substrate\", show_structure= False)\n",
    "s.create_molecule(smiles = \"C[C@@H](O)c1ccccc1\", name = \"R_substrate\", show_structure= False)"
   ]
  },
  {
   "cell_type": "code",
   "execution_count": 17,
   "id": "ed97c0a1-6341-4163-900a-f5fcc090be7a",
   "metadata": {},
   "outputs": [],
   "source": [
    "s.mol_to_pdbqt_new(\"S_substrate.mol\", add_ligand = True)\n",
    "s.mol_to_pdbqt_new(\"R_substrate.mol\", add_ligand = True)"
   ]
  },
  {
   "cell_type": "markdown",
   "id": "f3608749-c0fc-4ec4-be37-651c76d4cc35",
   "metadata": {},
   "source": [
    "## Mutera"
   ]
  },
  {
   "cell_type": "code",
   "execution_count": 7,
   "id": "8d1e3df2-2a30-4404-b752-73d092a37614",
   "metadata": {},
   "outputs": [],
   "source": [
    "# s.mutations(subunits = \"All\", positions = (149, 153), mutations = (\"VAL\", \"VAL\"), label = \"serine)\n",
    "# s.mutations(subunits = \"All\", positions = (153, 173), mutations = (\"VAL\", \"VAL\"), label = \"serine\")"
   ]
  },
  {
   "cell_type": "markdown",
   "id": "40161949-0773-4c79-a642-500c6b44171e",
   "metadata": {},
   "source": [
    "## MD"
   ]
  },
  {
   "cell_type": "code",
   "execution_count": 8,
   "id": "a03124d4-db62-4593-8205-08bc747453bb",
   "metadata": {},
   "outputs": [],
   "source": [
    "# Lägg till i detta i klassen, allt kan göras i pdb mappen"
   ]
  },
  {
   "cell_type": "markdown",
   "id": "9b07c567-69e4-457d-be67-08f1f28c0226",
   "metadata": {},
   "source": [
    "## Acetylerat serin"
   ]
  },
  {
   "attachments": {
    "dd053280-080a-4daa-884f-416323989552.png": {
     "image/png": "[encoded data removed]"
    }
   },
   "cell_type": "markdown",
   "id": "63de682f-47f2-4e60-aae1-432527791bf0",
   "metadata": {},
   "source": [
    "![image.png](attachment:dd053280-080a-4daa-884f-416323989552.png)"
   ]
  },
  {
   "cell_type": "code",
   "execution_count": 9,
   "id": "80950f04-1d19-4d9e-8894-c4892b564073",
   "metadata": {},
   "outputs": [
    {
     "data": {
      "application/3dmoljs_load.v0": "<div id=\"3dmolviewer_17448829260501573\"  style=\"position: relative; width: 400px; height: 400px;\">\n        <p id=\"3dmolwarning_17448829260501573\" style=\"background-color:#ffcccc;color:black\">3Dmol.js failed to load for some reason.  Please check your browser console for error messages.<br></p>\n        </div>\n<script>\n\nvar loadScriptAsync = function(uri){\n  return new Promise((resolve, reject) => {\n    //this is to ignore the existence of requirejs amd\n    var savedexports, savedmodule;\n    if (typeof exports !== 'undefined') savedexports = exports;\n    else exports = {}\n    if (typeof module !== 'undefined') savedmodule = module;\n    else module = {}\n\n    var tag = document.createElement('script');\n    tag.src = uri;\n    tag.async = true;\n    tag.onload = () => {\n        exports = savedexports;\n        module = savedmodule;\n        resolve();\n    };\n  var firstScriptTag = document.getElementsByTagName('script')[0];\n  firstScriptTag.parentNode.insertBefore(tag, firstScriptTag);\n});\n};\n\nif(typeof $3Dmolpromise === 'undefined') {\n$3Dmolpromise = null;\n  $3Dmolpromise = loadScriptAsync('https://cdnjs.cloudflare.com/ajax/libs/3Dmol/2.4.0/3Dmol-min.js');\n}\n\nvar viewer_17448829260501573 = null;\nvar warn = document.getElementById(\"3dmolwarning_17448829260501573\");\nif(warn) {\n    warn.parentNode.removeChild(warn);\n}\n$3Dmolpromise.then(function() {\nviewer_17448829260501573 = $3Dmol.createViewer(document.getElementById(\"3dmolviewer_17448829260501573\"),{backgroundColor:\"white\"});\nviewer_17448829260501573.zoomTo();\n\tviewer_17448829260501573.addModel(\"\\n     RDKit          3D\\n\\n 19 18  0  0  0  0  0  0  0  0999 V2000\\n   -2.4296    1.0749   -1.0194 N   0  0  0  0  0  0  0  0  0  0  0  0\\n   -1.1428    0.3395   -0.8859 C   0  0  1  0  0  0  0  0  0  0  0  0\\n   -0.0779    1.2139   -0.2145 C   0  0  0  0  0  0  0  0  0  0  0  0\\n    1.2328    0.6349   -0.3666 O   0  0  0  0  0  0  0  0  0  0  0  0\\n    1.7134   -0.0452    0.7108 C   0  0  0  0  0  0  0  0  0  0  0  0\\n    1.1325   -0.1849    1.7777 O   0  0  0  0  0  0  0  0  0  0  0  0\\n    3.0647   -0.6107    0.3997 C   0  0  0  0  0  0  0  0  0  0  0  0\\n   -1.3411   -0.9405   -0.0730 C   0  0  0  0  0  0  0  0  0  0  0  0\\n   -0.7120   -1.9791   -0.2006 O   0  0  0  0  0  0  0  0  0  0  0  0\\n   -2.3042   -0.8332    0.8706 O   0  0  0  0  0  0  0  0  0  0  0  0\\n   -2.8240    1.1601   -0.0764 H   0  0  0  0  0  0  0  0  0  0  0  0\\n   -3.0911    0.4711   -1.5101 H   0  0  0  0  0  0  0  0  0  0  0  0\\n   -0.8172    0.0404   -1.8886 H   0  0  0  0  0  0  0  0  0  0  0  0\\n   -0.0316    2.1873   -0.7171 H   0  0  0  0  0  0  0  0  0  0  0  0\\n   -0.3161    1.4173    0.8369 H   0  0  0  0  0  0  0  0  0  0  0  0\\n    2.9875   -1.3193   -0.4288 H   0  0  0  0  0  0  0  0  0  0  0  0\\n    3.7573    0.1977    0.1524 H   0  0  0  0  0  0  0  0  0  0  0  0\\n    3.4469   -1.1398    1.2774 H   0  0  0  0  0  0  0  0  0  0  0  0\\n   -2.2479   -1.6845    1.3555 H   0  0  0  0  0  0  0  0  0  0  0  0\\n  1  2  1  0\\n  2  3  1  0\\n  3  4  1  0\\n  4  5  1  0\\n  5  6  2  0\\n  5  7  1  0\\n  2  8  1  0\\n  8  9  2  0\\n  8 10  1  0\\n  1 11  1  0\\n  1 12  1  0\\n  2 13  1  6\\n  3 14  1  0\\n  3 15  1  0\\n  7 16  1  0\\n  7 17  1  0\\n  7 18  1  0\\n 10 19  1  0\\nM  END\\n\",\"mol\");\n\tviewer_17448829260501573.setStyle({\"stick\": {}});\n\tviewer_17448829260501573.zoomTo();\nviewer_17448829260501573.render();\n});\n</script>",
      "text/html": [
       "<div id=\"3dmolviewer_17448829260501573\"  style=\"position: relative; width: 400px; height: 400px;\">\n",
       "        <p id=\"3dmolwarning_17448829260501573\" style=\"background-color:#ffcccc;color:black\">3Dmol.js failed to load for some reason.  Please check your browser console for error messages.<br></p>\n",
       "        </div>\n",
       "<script>\n",
       "\n",
       "var loadScriptAsync = function(uri){\n",
       "  return new Promise((resolve, reject) => {\n",
       "    //this is to ignore the existence of requirejs amd\n",
       "    var savedexports, savedmodule;\n",
       "    if (typeof exports !== 'undefined') savedexports = exports;\n",
       "    else exports = {}\n",
       "    if (typeof module !== 'undefined') savedmodule = module;\n",
       "    else module = {}\n",
       "\n",
       "    var tag = document.createElement('script');\n",
       "    tag.src = uri;\n",
       "    tag.async = true;\n",
       "    tag.onload = () => {\n",
       "        exports = savedexports;\n",
       "        module = savedmodule;\n",
       "        resolve();\n",
       "    };\n",
       "  var firstScriptTag = document.getElementsByTagName('script')[0];\n",
       "  firstScriptTag.parentNode.insertBefore(tag, firstScriptTag);\n",
       "});\n",
       "};\n",
       "\n",
       "if(typeof $3Dmolpromise === 'undefined') {\n",
       "$3Dmolpromise = null;\n",
       "  $3Dmolpromise = loadScriptAsync('https://cdnjs.cloudflare.com/ajax/libs/3Dmol/2.4.0/3Dmol-min.js');\n",
       "}\n",
       "\n",
       "var viewer_17448829260501573 = null;\n",
       "var warn = document.getElementById(\"3dmolwarning_17448829260501573\");\n",
       "if(warn) {\n",
       "    warn.parentNode.removeChild(warn);\n",
       "}\n",
       "$3Dmolpromise.then(function() {\n",
       "viewer_17448829260501573 = $3Dmol.createViewer(document.getElementById(\"3dmolviewer_17448829260501573\"),{backgroundColor:\"white\"});\n",
       "viewer_17448829260501573.zoomTo();\n",
       "\tviewer_17448829260501573.addModel(\"\\n     RDKit          3D\\n\\n 19 18  0  0  0  0  0  0  0  0999 V2000\\n   -2.4296    1.0749   -1.0194 N   0  0  0  0  0  0  0  0  0  0  0  0\\n   -1.1428    0.3395   -0.8859 C   0  0  1  0  0  0  0  0  0  0  0  0\\n   -0.0779    1.2139   -0.2145 C   0  0  0  0  0  0  0  0  0  0  0  0\\n    1.2328    0.6349   -0.3666 O   0  0  0  0  0  0  0  0  0  0  0  0\\n    1.7134   -0.0452    0.7108 C   0  0  0  0  0  0  0  0  0  0  0  0\\n    1.1325   -0.1849    1.7777 O   0  0  0  0  0  0  0  0  0  0  0  0\\n    3.0647   -0.6107    0.3997 C   0  0  0  0  0  0  0  0  0  0  0  0\\n   -1.3411   -0.9405   -0.0730 C   0  0  0  0  0  0  0  0  0  0  0  0\\n   -0.7120   -1.9791   -0.2006 O   0  0  0  0  0  0  0  0  0  0  0  0\\n   -2.3042   -0.8332    0.8706 O   0  0  0  0  0  0  0  0  0  0  0  0\\n   -2.8240    1.1601   -0.0764 H   0  0  0  0  0  0  0  0  0  0  0  0\\n   -3.0911    0.4711   -1.5101 H   0  0  0  0  0  0  0  0  0  0  0  0\\n   -0.8172    0.0404   -1.8886 H   0  0  0  0  0  0  0  0  0  0  0  0\\n   -0.0316    2.1873   -0.7171 H   0  0  0  0  0  0  0  0  0  0  0  0\\n   -0.3161    1.4173    0.8369 H   0  0  0  0  0  0  0  0  0  0  0  0\\n    2.9875   -1.3193   -0.4288 H   0  0  0  0  0  0  0  0  0  0  0  0\\n    3.7573    0.1977    0.1524 H   0  0  0  0  0  0  0  0  0  0  0  0\\n    3.4469   -1.1398    1.2774 H   0  0  0  0  0  0  0  0  0  0  0  0\\n   -2.2479   -1.6845    1.3555 H   0  0  0  0  0  0  0  0  0  0  0  0\\n  1  2  1  0\\n  2  3  1  0\\n  3  4  1  0\\n  4  5  1  0\\n  5  6  2  0\\n  5  7  1  0\\n  2  8  1  0\\n  8  9  2  0\\n  8 10  1  0\\n  1 11  1  0\\n  1 12  1  0\\n  2 13  1  6\\n  3 14  1  0\\n  3 15  1  0\\n  7 16  1  0\\n  7 17  1  0\\n  7 18  1  0\\n 10 19  1  0\\nM  END\\n\",\"mol\");\n",
       "\tviewer_17448829260501573.setStyle({\"stick\": {}});\n",
       "\tviewer_17448829260501573.zoomTo();\n",
       "viewer_17448829260501573.render();\n",
       "});\n",
       "</script>"
      ]
     },
     "metadata": {},
     "output_type": "display_data"
    },
    {
     "name": "stdout",
     "output_type": "stream",
     "text": [
      "Molecule saved as acetyl_serine.mol\n"
     ]
    }
   ],
   "source": [
    "s.create_molecule(smiles = \"N[C@@H](COC(=O)C)C(=O)O\", name = \"acetyl_serine\", show_structure= True)"
   ]
  },
  {
   "cell_type": "code",
   "execution_count": null,
   "id": "5c4b99bd-0121-4ac8-982f-ea5c7f451efb",
   "metadata": {},
   "outputs": [],
   "source": [
    "s.mol_to_pdbqt_new(\"2q0s_md_mol2.mol2\", add_ligand = False)"
   ]
  },
  {
   "cell_type": "markdown",
   "id": "e9502ca1-462c-4007-bf67-a76592aeb155",
   "metadata": {},
   "source": [
    "## Acetyleringen som ska byggas i pymol"
   ]
  },
  {
   "cell_type": "markdown",
   "id": "01dc681f-c8b9-444e-abd0-465e74229443",
   "metadata": {},
   "source": [
    "- ATOM     14  C   UNK     1       1.948  -0.352   0.284  0.00  0.00    +0.304 C \n",
    "- ATOM     15  O   UNK     1       1.824  -1.101   1.242  0.00  0.00    -0.251 OA\n",
    "- BRANCH  14  16\n",
    "- ATOM     16  C   UNK     1       3.181   0.440  -0.025  0.00  0.00    +0.033 C \n",
    "- ATOM     17  H   UNK     1       2.950   1.508  -0.003  0.00  0.00    +0.034 HD\n",
    "- ATOM     18  H   UNK     1       3.944   0.232   0.731  0.00  0.00    +0.034 HD\n",
    "- ATOM     19  H   UNK     1       3.572   0.150  -1.003  0.00  0.00    +0.034 HD"
   ]
  },
  {
   "cell_type": "markdown",
   "id": "ff12fe08-ec7c-4c75-916e-bb3c48a4a5b9",
   "metadata": {},
   "source": [
    "## Konvertering från pqr till pdbqt"
   ]
  },
  {
   "cell_type": "code",
   "execution_count": 1,
   "id": "59993a31-347e-4581-ac2b-1905ba712cb2",
   "metadata": {},
   "outputs": [
    {
     "name": "stderr",
     "output_type": "stream",
     "text": [
      "/Users/carlandersson/miniconda3/envs/kd1500/lib/python3.12/site-packages/MDAnalysis/coordinates/PDBQT.py:296: UserWarning: Supplied AtomGroup was missing the following attributes: altLocs, occupancies, tempfactors. These will be written with default values. \n",
      "  warnings.warn(\n"
     ]
    }
   ],
   "source": [
    "#u = mda.Universe(infile.pqr)\n",
    "#u.atoms.write(outfile.pdbqt')\n",
    "# spara alla byggda filer i pdb mappen och lägg in namnen i pdbfilenames listan inför docking\n",
    "\n",
    "import MDAnalysis as mda\n",
    "\n",
    "filenames = [\"2q0s_acetyl_new\"]\n",
    "\n",
    "for filename in filenames:\n",
    "    u = mda.Universe(f\"{filename}.pqr\")\n",
    "    u.atoms.write(f'{filename}.pdbqt')\n",
    "\n",
    "\n"
   ]
  },
  {
   "cell_type": "markdown",
   "id": "56197ca9-79a4-4d49-a910-16713d390db5",
   "metadata": {},
   "source": [
    "## Docking i smina"
   ]
  },
  {
   "cell_type": "code",
   "execution_count": 2,
   "id": "d2f787ac-c6a2-4111-9a88-263cf66cd855",
   "metadata": {},
   "outputs": [
    {
     "name": "stdout",
     "output_type": "stream",
     "text": [
      "   _______  _______ _________ _        _______ \n",
      "  (  ____ \\(       )\\__   __/( (    /|(  ___  )\n",
      "  | (    \\/| () () |   ) (   |  \\  ( || (   ) |\n",
      "  | (_____ | || || |   | |   |   \\ | || (___) |\n",
      "  (_____  )| |(_)| |   | |   | (\\ \\) ||  ___  |\n",
      "        ) || |   | |   | |   | | \\   || (   ) |\n",
      "  /\\____) || )   ( |___) (___| )  \\  || )   ( |\n",
      "  \\_______)|/     \\|\\_______/|/    )_)|/     \\|\n",
      "\n",
      "\n",
      "smina is based off AutoDock Vina. Please cite appropriately.\n",
      "\n",
      "Weights      Terms\n",
      "-0.035579    gauss(o=0,_w=0.5,_c=8)\n",
      "-0.005156    gauss(o=3,_w=2,_c=8)\n",
      "0.840245     repulsion(o=0,_c=8)\n",
      "-0.035069    hydrophobic(g=0.5,_b=1.5,_c=8)\n",
      "-0.587439    non_dir_h_bond(g=-0.7,_b=0,_c=8)\n",
      "1            electrostatic(i=2,_^=100,_c=8)\n",
      "1.923        num_tors_div\n",
      "\n",
      "Using random seed: 1939426912\n",
      "\n",
      "0%   10   20   30   40   50   60   70   80   90   100%\n",
      "|----|----|----|----|----|----|----|----|----|----|\n",
      "***************************************************\n",
      "\n",
      "mode |   affinity | dist from best mode\n",
      "     | (kcal/mol) | rmsd l.b.| rmsd u.b.\n",
      "-----+------------+----------+----------\n",
      "1       -6.3       0.000      0.000    \n",
      "2       -6.3       0.091      1.611    \n",
      "3       -5.6       1.673      3.637    \n",
      "4       -5.6       1.671      3.964    \n",
      "5       -4.7       1.966      3.673    \n",
      "6       -4.5       2.023      3.807    \n",
      "7       -4.3       8.643      9.412    \n",
      "8       -4.0       1.797      3.957    \n",
      "9       -3.8       2.453      3.592    \n",
      "Refine time 5.795\n",
      "Loop time 7.779\n"
     ]
    }
   ],
   "source": [
    "!smina --receptor 2q0s_acetyl_new.pdbqt --ligand R_substrate.pdbqt --out 2q0s_Rdocked.pdbqt --custom_scoring custom_scoring_new.txt \\\n",
    "    --center_x 20.721043365249557 --center_y 54.6562179849733 --center_z 28.330812924930342 --size_x 18 --size_y 18 --size_z 18 \\\n",
    "    --exhaustiveness 20 --num_modes 9 --log smina_output.log"
   ]
  },
  {
   "cell_type": "code",
   "execution_count": 3,
   "id": "96216f35",
   "metadata": {},
   "outputs": [
    {
     "name": "stdout",
     "output_type": "stream",
     "text": [
      "   _______  _______ _________ _        _______ \n",
      "  (  ____ \\(       )\\__   __/( (    /|(  ___  )\n",
      "  | (    \\/| () () |   ) (   |  \\  ( || (   ) |\n",
      "  | (_____ | || || |   | |   |   \\ | || (___) |\n",
      "  (_____  )| |(_)| |   | |   | (\\ \\) ||  ___  |\n",
      "        ) || |   | |   | |   | | \\   || (   ) |\n",
      "  /\\____) || )   ( |___) (___| )  \\  || )   ( |\n",
      "  \\_______)|/     \\|\\_______/|/    )_)|/     \\|\n",
      "\n",
      "\n",
      "smina is based off AutoDock Vina. Please cite appropriately.\n",
      "\n",
      "Weights      Terms\n",
      "-0.035579    gauss(o=0,_w=0.5,_c=8)\n",
      "-0.005156    gauss(o=3,_w=2,_c=8)\n",
      "0.840245     repulsion(o=0,_c=8)\n",
      "-0.035069    hydrophobic(g=0.5,_b=1.5,_c=8)\n",
      "-0.587439    non_dir_h_bond(g=-0.7,_b=0,_c=8)\n",
      "1            electrostatic(i=2,_^=100,_c=8)\n",
      "1.923        num_tors_div\n",
      "\n",
      "Using random seed: 240055984\n",
      "\n",
      "0%   10   20   30   40   50   60   70   80   90   100%\n",
      "|----|----|----|----|----|----|----|----|----|----|\n",
      "***************************************************\n",
      "\n",
      "mode |   affinity | dist from best mode\n",
      "     | (kcal/mol) | rmsd l.b.| rmsd u.b.\n",
      "-----+------------+----------+----------\n",
      "1       -6.2       0.000      0.000    \n",
      "2       -6.2       0.011      1.609    \n",
      "3       -5.9       0.894      1.905    \n",
      "4       -5.6       1.765      4.026    \n",
      "5       -5.6       1.761      3.698    \n",
      "6       -4.2       8.656      9.431    \n",
      "7       -4.0       8.846      9.770    \n",
      "8       -4.0       9.011      9.836    \n",
      "9       -3.9       2.239      3.613    \n",
      "Refine time 5.800\n",
      "Loop time 7.176\n"
     ]
    }
   ],
   "source": [
    "!smina --receptor 2q0s_acetyl_new.pdbqt --ligand S_substrate.pdbqt --out 2q0s_Sdocked_new.pdbqt --custom_scoring custom_scoring_new.txt \\\n",
    "    --center_x 20.721043365249557 --center_y 54.6562179849733 --center_z 28.330812924930342 --size_x 18 --size_y 18 --size_z 18 \\\n",
    "    --exhaustiveness 20 --num_modes 9 --log smina_output.log\n"
   ]
  },
  {
   "cell_type": "code",
   "execution_count": 23,
   "id": "d1f9c227",
   "metadata": {},
   "outputs": [
    {
     "name": "stdout",
     "output_type": "stream",
     "text": [
      "   _______  _______ _________ _        _______ \n",
      "  (  ____ \\(       )\\__   __/( (    /|(  ___  )\n",
      "  | (    \\/| () () |   ) (   |  \\  ( || (   ) |\n",
      "  | (_____ | || || |   | |   |   \\ | || (___) |\n",
      "  (_____  )| |(_)| |   | |   | (\\ \\) ||  ___  |\n",
      "        ) || |   | |   | |   | | \\   || (   ) |\n",
      "  /\\____) || )   ( |___) (___| )  \\  || )   ( |\n",
      "  \\_______)|/     \\|\\_______/|/    )_)|/     \\|\n",
      "\n",
      "\n",
      "smina is based off AutoDock Vina. Please cite appropriately.\n",
      "\n",
      "Weights      Terms\n",
      "-0.035579    gauss(o=0,_w=0.5,_c=8)\n",
      "-0.005156    gauss(o=3,_w=2,_c=8)\n",
      "0.840245     repulsion(o=0,_c=8)\n",
      "-0.035069    hydrophobic(g=0.5,_b=1.5,_c=8)\n",
      "-0.587439    non_dir_h_bond(g=-0.7,_b=0,_c=8)\n",
      "1            electrostatic(i=2,_^=100,_c=8)\n",
      "1.923        num_tors_div\n",
      "\n",
      "Using random seed: -480437164\n",
      "\n",
      "0%   10   20   30   40   50   60   70   80   90   100%\n",
      "|----|----|----|----|----|----|----|----|----|----|\n",
      "***************************************************\n",
      "\n",
      "mode |   affinity | dist from best mode\n",
      "     | (kcal/mol) | rmsd l.b.| rmsd u.b.\n",
      "-----+------------+----------+----------\n",
      "1       -5.3       0.000      0.000    \n",
      "2       -5.3       0.007      1.609    \n",
      "3       -5.2       1.240      2.053    \n",
      "4       -5.2       1.241      1.433    \n",
      "5       -5.1       2.125      3.717    \n",
      "6       -5.1       2.132      4.004    \n",
      "7       -5.1       2.031      3.923    \n",
      "8       -5.1       2.029      3.604    \n",
      "9       -5.0       1.313      2.256    \n",
      "Refine time 7.499\n",
      "Loop time 8.811\n"
     ]
    }
   ],
   "source": [
    "!smina --receptor F149V_F153V_acetyl_md_fardig.pdbqt --ligand R_substrate.pdbqt --out F149V_F153V_Rdocked.pdbqt --custom_scoring custom_scoring_new.txt \\\n",
    "    --center_x 20.721043365249557 --center_y 54.6562179849733 --center_z 28.330812924930342 --size_x 18 --size_y 18 --size_z 18 \\\n",
    "    --exhaustiveness 20 --num_modes 9 --log smina_output.log"
   ]
  },
  {
   "cell_type": "code",
   "execution_count": 24,
   "id": "04a19942",
   "metadata": {},
   "outputs": [
    {
     "name": "stdout",
     "output_type": "stream",
     "text": [
      "   _______  _______ _________ _        _______ \n",
      "  (  ____ \\(       )\\__   __/( (    /|(  ___  )\n",
      "  | (    \\/| () () |   ) (   |  \\  ( || (   ) |\n",
      "  | (_____ | || || |   | |   |   \\ | || (___) |\n",
      "  (_____  )| |(_)| |   | |   | (\\ \\) ||  ___  |\n",
      "        ) || |   | |   | |   | | \\   || (   ) |\n",
      "  /\\____) || )   ( |___) (___| )  \\  || )   ( |\n",
      "  \\_______)|/     \\|\\_______/|/    )_)|/     \\|\n",
      "\n",
      "\n",
      "smina is based off AutoDock Vina. Please cite appropriately.\n",
      "\n",
      "Weights      Terms\n",
      "-0.035579    gauss(o=0,_w=0.5,_c=8)\n",
      "-0.005156    gauss(o=3,_w=2,_c=8)\n",
      "0.840245     repulsion(o=0,_c=8)\n",
      "-0.035069    hydrophobic(g=0.5,_b=1.5,_c=8)\n",
      "-0.587439    non_dir_h_bond(g=-0.7,_b=0,_c=8)\n",
      "1            electrostatic(i=2,_^=100,_c=8)\n",
      "1.923        num_tors_div\n",
      "\n",
      "Using random seed: -816100782\n",
      "\n",
      "0%   10   20   30   40   50   60   70   80   90   100%\n",
      "|----|----|----|----|----|----|----|----|----|----|\n",
      "***************************************************\n",
      "\n",
      "mode |   affinity | dist from best mode\n",
      "     | (kcal/mol) | rmsd l.b.| rmsd u.b.\n",
      "-----+------------+----------+----------\n",
      "1       -5.3       0.000      0.000    \n",
      "2       -5.3       0.013      1.609    \n",
      "3       -5.1       2.176      3.670    \n",
      "4       -5.1       2.004      4.005    \n",
      "5       -5.1       2.010      3.676    \n",
      "6       -5.0       2.341      4.165    \n",
      "7       -4.9       1.347      1.568    \n",
      "8       -4.8       1.727      3.815    \n",
      "9       -4.8       1.727      3.875    \n",
      "Refine time 6.133\n",
      "Loop time 7.358\n"
     ]
    }
   ],
   "source": [
    "!smina --receptor F149V_F153V_acetyl_md_fardig.pdbqt --ligand S_substrate.pdbqt --out F149V_F153V_Sdocked.pdbqt --custom_scoring custom_scoring_new.txt \\\n",
    "    --center_x 20.721043365249557 --center_y 54.6562179849733 --center_z 28.330812924930342 --size_x 18 --size_y 18 --size_z 18 \\\n",
    "    --exhaustiveness 20 --num_modes 9 --log smina_output.log"
   ]
  },
  {
   "cell_type": "code",
   "execution_count": 25,
   "id": "8cd34d0e",
   "metadata": {},
   "outputs": [
    {
     "name": "stdout",
     "output_type": "stream",
     "text": [
      "   _______  _______ _________ _        _______ \n",
      "  (  ____ \\(       )\\__   __/( (    /|(  ___  )\n",
      "  | (    \\/| () () |   ) (   |  \\  ( || (   ) |\n",
      "  | (_____ | || || |   | |   |   \\ | || (___) |\n",
      "  (_____  )| |(_)| |   | |   | (\\ \\) ||  ___  |\n",
      "        ) || |   | |   | |   | | \\   || (   ) |\n",
      "  /\\____) || )   ( |___) (___| )  \\  || )   ( |\n",
      "  \\_______)|/     \\|\\_______/|/    )_)|/     \\|\n",
      "\n",
      "\n",
      "smina is based off AutoDock Vina. Please cite appropriately.\n",
      "\n",
      "Weights      Terms\n",
      "-0.035579    gauss(o=0,_w=0.5,_c=8)\n",
      "-0.005156    gauss(o=3,_w=2,_c=8)\n",
      "0.840245     repulsion(o=0,_c=8)\n",
      "-0.035069    hydrophobic(g=0.5,_b=1.5,_c=8)\n",
      "-0.587439    non_dir_h_bond(g=-0.7,_b=0,_c=8)\n",
      "1            electrostatic(i=2,_^=100,_c=8)\n",
      "1.923        num_tors_div\n",
      "\n",
      "Using random seed: 1635736727\n",
      "\n",
      "0%   10   20   30   40   50   60   70   80   90   100%\n",
      "|----|----|----|----|----|----|----|----|----|----|\n",
      "***************************************************\n",
      "\n",
      "mode |   affinity | dist from best mode\n",
      "     | (kcal/mol) | rmsd l.b.| rmsd u.b.\n",
      "-----+------------+----------+----------\n",
      "1       -6.0       0.000      0.000    \n",
      "2       -6.0       0.077      1.610    \n",
      "3       -5.9       1.753      3.586    \n",
      "4       -5.8       1.968      4.038    \n",
      "5       -5.7       2.167      4.136    \n",
      "6       -5.5       1.229      1.595    \n",
      "7       -5.5       2.216      3.242    \n",
      "8       -5.5       2.202      3.269    \n",
      "9       -5.4       0.962      1.874    \n",
      "Refine time 5.605\n",
      "Loop time 6.813\n"
     ]
    }
   ],
   "source": [
    "!smina --receptor F153V_F173V_acetyl_md_fardig.pdbqt --ligand R_substrate.pdbqt --out F153V_F73V_Rdocked.pdbqt --custom_scoring custom_scoring_new.txt \\\n",
    "    --center_x 20.721043365249557 --center_y 54.6562179849733 --center_z 28.330812924930342 --size_x 18 --size_y 18 --size_z 18 \\\n",
    "    --exhaustiveness 20 --num_modes 9 --log smina_output.log"
   ]
  },
  {
   "cell_type": "code",
   "execution_count": 26,
   "id": "a6519da7",
   "metadata": {},
   "outputs": [
    {
     "name": "stdout",
     "output_type": "stream",
     "text": [
      "   _______  _______ _________ _        _______ \n",
      "  (  ____ \\(       )\\__   __/( (    /|(  ___  )\n",
      "  | (    \\/| () () |   ) (   |  \\  ( || (   ) |\n",
      "  | (_____ | || || |   | |   |   \\ | || (___) |\n",
      "  (_____  )| |(_)| |   | |   | (\\ \\) ||  ___  |\n",
      "        ) || |   | |   | |   | | \\   || (   ) |\n",
      "  /\\____) || )   ( |___) (___| )  \\  || )   ( |\n",
      "  \\_______)|/     \\|\\_______/|/    )_)|/     \\|\n",
      "\n",
      "\n",
      "smina is based off AutoDock Vina. Please cite appropriately.\n",
      "\n",
      "Weights      Terms\n",
      "-0.035579    gauss(o=0,_w=0.5,_c=8)\n",
      "-0.005156    gauss(o=3,_w=2,_c=8)\n",
      "0.840245     repulsion(o=0,_c=8)\n",
      "-0.035069    hydrophobic(g=0.5,_b=1.5,_c=8)\n",
      "-0.587439    non_dir_h_bond(g=-0.7,_b=0,_c=8)\n",
      "1            electrostatic(i=2,_^=100,_c=8)\n",
      "1.923        num_tors_div\n",
      "\n",
      "Using random seed: 453955784\n",
      "\n",
      "0%   10   20   30   40   50   60   70   80   90   100%\n",
      "|----|----|----|----|----|----|----|----|----|----|\n",
      "***************************************************\n",
      "\n",
      "mode |   affinity | dist from best mode\n",
      "     | (kcal/mol) | rmsd l.b.| rmsd u.b.\n",
      "-----+------------+----------+----------\n",
      "1       -5.9       0.000      0.000    \n",
      "2       -5.9       0.012      1.609    \n",
      "3       -5.8       1.928      4.039    \n",
      "4       -5.8       1.927      3.709    \n",
      "5       -5.8       1.859      3.592    \n",
      "6       -5.8       1.859      3.874    \n",
      "7       -5.7       1.126      1.997    \n",
      "8       -5.6       1.865      3.185    \n",
      "9       -5.5       1.862      3.114    \n",
      "Refine time 5.754\n",
      "Loop time 6.913\n"
     ]
    }
   ],
   "source": [
    "!smina --receptor F153V_F173V_acetyl_md_fardig.pdbqt --ligand S_substrate.pdbqt --out F153V_F73V_Sdocked.pdbqt --custom_scoring custom_scoring_new.txt \\\n",
    "    --center_x 20.721043365249557 --center_y 54.6562179849733 --center_z 28.330812924930342 --size_x 18 --size_y 18 --size_z 18 \\\n",
    "    --exhaustiveness 20 --num_modes 9 --log smina_output.log"
   ]
  },
  {
   "cell_type": "code",
   "execution_count": null,
   "id": "cb0f7f53",
   "metadata": {},
   "outputs": [
    {
     "data": {
      "application/vnd.jupyter.widget-view+json": {
       "model_id": "4b9b7fdcf2724c498d8f761ce6909bea",
       "version_major": 2,
       "version_minor": 0
      },
      "text/plain": []
     },
     "metadata": {},
     "output_type": "display_data"
    },
    {
     "data": {
      "application/vnd.jupyter.widget-view+json": {
       "model_id": "dabf136c25484bff9dce15f1533462d3",
       "version_major": 2,
       "version_minor": 0
      },
      "text/plain": [
       "NGLWidget()"
      ]
     },
     "metadata": {},
     "output_type": "display_data"
    }
   ],
   "source": [
    "import nglview as nv\n",
    "\n",
    "# Load the structure file\n",
    "view = nv.show_file(\"2q0s_acetyl_md_fardig.pdbqt\")\n",
    "\n",
    "# Represent the entire protein as a cartoon\n",
    "view.clear_representations()\n",
    "view.add_cartoon(color='blue')\n",
    "\n",
    "# Highlight chain A residue 10 in licorice with a distinct color\n",
    "view.add_licorice(selection=':10 and :A', color='red')\n",
    "\n",
    "# Optional: Center the view on residue 10\n",
    "view.center(selection=':10 and :A')\n",
    "\n",
    "# Display the viewer\n",
    "view\n"
   ]
  },
  {
   "cell_type": "code",
   "execution_count": 3,
   "id": "5a60e0fe",
   "metadata": {},
   "outputs": [
    {
     "data": {
      "application/vnd.jupyter.widget-view+json": {
       "model_id": "10745b3e8c4c4b84b41e592a250db73e",
       "version_major": 2,
       "version_minor": 0
      },
      "text/plain": [
       "NGLWidget()"
      ]
     },
     "metadata": {},
     "output_type": "display_data"
    }
   ],
   "source": [
    "view = nv.show_structure_file(\"2q0s_md.pqr\")\n",
    "view.clear_representations()  \n",
    "\n",
    "view.add_representation(\"cartoon\", selection=\"protein\", color=\"gray\")\n",
    "view.add_representation(\"licorice\", selection=\"resi 10\", color=\"magenta\")\n",
    "view"
   ]
  },
  {
   "cell_type": "code",
   "execution_count": 1,
   "id": "540e6cc9",
   "metadata": {},
   "outputs": [
    {
     "name": "stdout",
     "output_type": "stream",
     "text": [
      "1 molecule converted\n"
     ]
    }
   ],
   "source": [
    "\n",
    "!obabel 2q0s_serin_md.pdbqt -O your_file.pqr"
   ]
  },
  {
   "cell_type": "code",
   "execution_count": 9,
   "id": "93ef2213",
   "metadata": {},
   "outputs": [],
   "source": [
    "from openbabel import pybel\n",
    "\n",
    "# Läs in PDB-filen\n",
    "mol = next(pybel.readfile(\"pdb\", \"2q0s_pdb1.pdb\"))\n",
    "\n",
    "# Spara som MOL-format\n",
    "mol.write(\"mol\", \"2q0s1.mol\", overwrite=True)"
   ]
  },
  {
   "cell_type": "code",
   "execution_count": 7,
   "id": "acc64edf",
   "metadata": {},
   "outputs": [],
   "source": [
    "s = KEX(\"2q0s_pdb1.pdb\")"
   ]
  },
  {
   "cell_type": "code",
   "execution_count": 10,
   "id": "dbf6545f",
   "metadata": {},
   "outputs": [
    {
     "ename": "FileNotFoundError",
     "evalue": "[Errno 2] No such file or directory: 'obabel 2q0s1.mol -O 2q0s1.pdbqt -h --partialcharge gasteiger'",
     "output_type": "error",
     "traceback": [
      "\u001b[0;31m---------------------------------------------------------------------------\u001b[0m",
      "\u001b[0;31mFileNotFoundError\u001b[0m                         Traceback (most recent call last)",
      "Cell \u001b[0;32mIn[10], line 1\u001b[0m\n\u001b[0;32m----> 1\u001b[0m \u001b[43ms\u001b[49m\u001b[38;5;241;43m.\u001b[39;49m\u001b[43mmol_to_pdbqt\u001b[49m\u001b[43m(\u001b[49m\u001b[38;5;124;43m\"\u001b[39;49m\u001b[38;5;124;43m2q0s1.mol\u001b[39;49m\u001b[38;5;124;43m\"\u001b[39;49m\u001b[43m)\u001b[49m\n",
      "File \u001b[0;32m~/Documents/GitHub/KEX/script.py:339\u001b[0m, in \u001b[0;36mKEX.mol_to_pdbqt\u001b[0;34m(self, filename)\u001b[0m\n\u001b[1;32m    337\u001b[0m \u001b[38;5;28;01mdef\u001b[39;00m \u001b[38;5;21mmol_to_pdbqt\u001b[39m(\u001b[38;5;28mself\u001b[39m, filename):\n\u001b[1;32m    338\u001b[0m     filename \u001b[38;5;241m=\u001b[39m filename[:\u001b[38;5;241m-\u001b[39m\u001b[38;5;241m4\u001b[39m]\n\u001b[0;32m--> 339\u001b[0m     \u001b[43msubprocess\u001b[49m\u001b[38;5;241;43m.\u001b[39;49m\u001b[43mrun\u001b[49m\u001b[43m(\u001b[49m\u001b[38;5;124;43mf\u001b[39;49m\u001b[38;5;124;43m\"\u001b[39;49m\u001b[38;5;124;43mobabel \u001b[39;49m\u001b[38;5;132;43;01m{\u001b[39;49;00m\u001b[43mfilename\u001b[49m\u001b[38;5;132;43;01m}\u001b[39;49;00m\u001b[38;5;124;43m.mol -O \u001b[39;49m\u001b[38;5;132;43;01m{\u001b[39;49;00m\u001b[43mfilename\u001b[49m\u001b[38;5;132;43;01m}\u001b[39;49;00m\u001b[38;5;124;43m.pdbqt -h --partialcharge gasteiger\u001b[39;49m\u001b[38;5;124;43m\"\u001b[39;49m\u001b[43m)\u001b[49m\n\u001b[1;32m    340\u001b[0m     \u001b[38;5;28mself\u001b[39m\u001b[38;5;241m.\u001b[39mligand_filenames\u001b[38;5;241m.\u001b[39mappend(\u001b[38;5;124mf\u001b[39m\u001b[38;5;124m\"\u001b[39m\u001b[38;5;132;01m{\u001b[39;00mfilename\u001b[38;5;132;01m}\u001b[39;00m\u001b[38;5;124m.pdbqt\u001b[39m\u001b[38;5;124m\"\u001b[39m)\n\u001b[1;32m    342\u001b[0m     source \u001b[38;5;241m=\u001b[39m os\u001b[38;5;241m.\u001b[39mpath\u001b[38;5;241m.\u001b[39mjoin(os\u001b[38;5;241m.\u001b[39mgetcwd(), \u001b[38;5;124mf\u001b[39m\u001b[38;5;124m\"\u001b[39m\u001b[38;5;132;01m{\u001b[39;00mfilename\u001b[38;5;132;01m}\u001b[39;00m\u001b[38;5;124m.pdbqt\u001b[39m\u001b[38;5;124m\"\u001b[39m)\n",
      "File \u001b[0;32m~/miniconda3/envs/kd1500/lib/python3.12/subprocess.py:548\u001b[0m, in \u001b[0;36mrun\u001b[0;34m(input, capture_output, timeout, check, *popenargs, **kwargs)\u001b[0m\n\u001b[1;32m    545\u001b[0m     kwargs[\u001b[38;5;124m'\u001b[39m\u001b[38;5;124mstdout\u001b[39m\u001b[38;5;124m'\u001b[39m] \u001b[38;5;241m=\u001b[39m PIPE\n\u001b[1;32m    546\u001b[0m     kwargs[\u001b[38;5;124m'\u001b[39m\u001b[38;5;124mstderr\u001b[39m\u001b[38;5;124m'\u001b[39m] \u001b[38;5;241m=\u001b[39m PIPE\n\u001b[0;32m--> 548\u001b[0m \u001b[38;5;28;01mwith\u001b[39;00m \u001b[43mPopen\u001b[49m\u001b[43m(\u001b[49m\u001b[38;5;241;43m*\u001b[39;49m\u001b[43mpopenargs\u001b[49m\u001b[43m,\u001b[49m\u001b[43m \u001b[49m\u001b[38;5;241;43m*\u001b[39;49m\u001b[38;5;241;43m*\u001b[39;49m\u001b[43mkwargs\u001b[49m\u001b[43m)\u001b[49m \u001b[38;5;28;01mas\u001b[39;00m process:\n\u001b[1;32m    549\u001b[0m     \u001b[38;5;28;01mtry\u001b[39;00m:\n\u001b[1;32m    550\u001b[0m         stdout, stderr \u001b[38;5;241m=\u001b[39m process\u001b[38;5;241m.\u001b[39mcommunicate(\u001b[38;5;28minput\u001b[39m, timeout\u001b[38;5;241m=\u001b[39mtimeout)\n",
      "File \u001b[0;32m~/miniconda3/envs/kd1500/lib/python3.12/subprocess.py:1026\u001b[0m, in \u001b[0;36mPopen.__init__\u001b[0;34m(self, args, bufsize, executable, stdin, stdout, stderr, preexec_fn, close_fds, shell, cwd, env, universal_newlines, startupinfo, creationflags, restore_signals, start_new_session, pass_fds, user, group, extra_groups, encoding, errors, text, umask, pipesize, process_group)\u001b[0m\n\u001b[1;32m   1022\u001b[0m         \u001b[38;5;28;01mif\u001b[39;00m \u001b[38;5;28mself\u001b[39m\u001b[38;5;241m.\u001b[39mtext_mode:\n\u001b[1;32m   1023\u001b[0m             \u001b[38;5;28mself\u001b[39m\u001b[38;5;241m.\u001b[39mstderr \u001b[38;5;241m=\u001b[39m io\u001b[38;5;241m.\u001b[39mTextIOWrapper(\u001b[38;5;28mself\u001b[39m\u001b[38;5;241m.\u001b[39mstderr,\n\u001b[1;32m   1024\u001b[0m                     encoding\u001b[38;5;241m=\u001b[39mencoding, errors\u001b[38;5;241m=\u001b[39merrors)\n\u001b[0;32m-> 1026\u001b[0m     \u001b[38;5;28;43mself\u001b[39;49m\u001b[38;5;241;43m.\u001b[39;49m\u001b[43m_execute_child\u001b[49m\u001b[43m(\u001b[49m\u001b[43margs\u001b[49m\u001b[43m,\u001b[49m\u001b[43m \u001b[49m\u001b[43mexecutable\u001b[49m\u001b[43m,\u001b[49m\u001b[43m \u001b[49m\u001b[43mpreexec_fn\u001b[49m\u001b[43m,\u001b[49m\u001b[43m \u001b[49m\u001b[43mclose_fds\u001b[49m\u001b[43m,\u001b[49m\n\u001b[1;32m   1027\u001b[0m \u001b[43m                        \u001b[49m\u001b[43mpass_fds\u001b[49m\u001b[43m,\u001b[49m\u001b[43m \u001b[49m\u001b[43mcwd\u001b[49m\u001b[43m,\u001b[49m\u001b[43m \u001b[49m\u001b[43menv\u001b[49m\u001b[43m,\u001b[49m\n\u001b[1;32m   1028\u001b[0m \u001b[43m                        \u001b[49m\u001b[43mstartupinfo\u001b[49m\u001b[43m,\u001b[49m\u001b[43m \u001b[49m\u001b[43mcreationflags\u001b[49m\u001b[43m,\u001b[49m\u001b[43m \u001b[49m\u001b[43mshell\u001b[49m\u001b[43m,\u001b[49m\n\u001b[1;32m   1029\u001b[0m \u001b[43m                        \u001b[49m\u001b[43mp2cread\u001b[49m\u001b[43m,\u001b[49m\u001b[43m \u001b[49m\u001b[43mp2cwrite\u001b[49m\u001b[43m,\u001b[49m\n\u001b[1;32m   1030\u001b[0m \u001b[43m                        \u001b[49m\u001b[43mc2pread\u001b[49m\u001b[43m,\u001b[49m\u001b[43m \u001b[49m\u001b[43mc2pwrite\u001b[49m\u001b[43m,\u001b[49m\n\u001b[1;32m   1031\u001b[0m \u001b[43m                        \u001b[49m\u001b[43merrread\u001b[49m\u001b[43m,\u001b[49m\u001b[43m \u001b[49m\u001b[43merrwrite\u001b[49m\u001b[43m,\u001b[49m\n\u001b[1;32m   1032\u001b[0m \u001b[43m                        \u001b[49m\u001b[43mrestore_signals\u001b[49m\u001b[43m,\u001b[49m\n\u001b[1;32m   1033\u001b[0m \u001b[43m                        \u001b[49m\u001b[43mgid\u001b[49m\u001b[43m,\u001b[49m\u001b[43m \u001b[49m\u001b[43mgids\u001b[49m\u001b[43m,\u001b[49m\u001b[43m \u001b[49m\u001b[43muid\u001b[49m\u001b[43m,\u001b[49m\u001b[43m \u001b[49m\u001b[43mumask\u001b[49m\u001b[43m,\u001b[49m\n\u001b[1;32m   1034\u001b[0m \u001b[43m                        \u001b[49m\u001b[43mstart_new_session\u001b[49m\u001b[43m,\u001b[49m\u001b[43m \u001b[49m\u001b[43mprocess_group\u001b[49m\u001b[43m)\u001b[49m\n\u001b[1;32m   1035\u001b[0m \u001b[38;5;28;01mexcept\u001b[39;00m:\n\u001b[1;32m   1036\u001b[0m     \u001b[38;5;66;03m# Cleanup if the child failed starting.\u001b[39;00m\n\u001b[1;32m   1037\u001b[0m     \u001b[38;5;28;01mfor\u001b[39;00m f \u001b[38;5;129;01min\u001b[39;00m \u001b[38;5;28mfilter\u001b[39m(\u001b[38;5;28;01mNone\u001b[39;00m, (\u001b[38;5;28mself\u001b[39m\u001b[38;5;241m.\u001b[39mstdin, \u001b[38;5;28mself\u001b[39m\u001b[38;5;241m.\u001b[39mstdout, \u001b[38;5;28mself\u001b[39m\u001b[38;5;241m.\u001b[39mstderr)):\n",
      "File \u001b[0;32m~/miniconda3/envs/kd1500/lib/python3.12/subprocess.py:1955\u001b[0m, in \u001b[0;36mPopen._execute_child\u001b[0;34m(self, args, executable, preexec_fn, close_fds, pass_fds, cwd, env, startupinfo, creationflags, shell, p2cread, p2cwrite, c2pread, c2pwrite, errread, errwrite, restore_signals, gid, gids, uid, umask, start_new_session, process_group)\u001b[0m\n\u001b[1;32m   1953\u001b[0m     err_msg \u001b[38;5;241m=\u001b[39m os\u001b[38;5;241m.\u001b[39mstrerror(errno_num)\n\u001b[1;32m   1954\u001b[0m \u001b[38;5;28;01mif\u001b[39;00m err_filename \u001b[38;5;129;01mis\u001b[39;00m \u001b[38;5;129;01mnot\u001b[39;00m \u001b[38;5;28;01mNone\u001b[39;00m:\n\u001b[0;32m-> 1955\u001b[0m     \u001b[38;5;28;01mraise\u001b[39;00m child_exception_type(errno_num, err_msg, err_filename)\n\u001b[1;32m   1956\u001b[0m \u001b[38;5;28;01melse\u001b[39;00m:\n\u001b[1;32m   1957\u001b[0m     \u001b[38;5;28;01mraise\u001b[39;00m child_exception_type(errno_num, err_msg)\n",
      "\u001b[0;31mFileNotFoundError\u001b[0m: [Errno 2] No such file or directory: 'obabel 2q0s1.mol -O 2q0s1.pdbqt -h --partialcharge gasteiger'"
     ]
    }
   ],
   "source": [
    "s.mol_to_pdbqt(\"2q0s1.mol\")"
   ]
  },
  {
   "cell_type": "code",
   "execution_count": 11,
   "id": "45e24c39",
   "metadata": {},
   "outputs": [
    {
     "name": "stdout",
     "output_type": "stream",
     "text": [
      "1 molecule converted\n"
     ]
    }
   ],
   "source": [
    "!obabel 2q0s1.mol -O {2q0s1}.pdbqt -h --partialcharge gasteiger"
   ]
  },
  {
   "cell_type": "code",
   "execution_count": 19,
   "id": "187103eb",
   "metadata": {},
   "outputs": [
    {
     "ename": "ValueError",
     "evalue": "2q0s_pdb1.pdb is not a recognised Open Babel format",
     "output_type": "error",
     "traceback": [
      "\u001b[0;31m---------------------------------------------------------------------------\u001b[0m",
      "\u001b[0;31mValueError\u001b[0m                                Traceback (most recent call last)",
      "Cell \u001b[0;32mIn[19], line 17\u001b[0m\n\u001b[1;32m     14\u001b[0m     \u001b[38;5;28mprint\u001b[39m(\u001b[38;5;124mf\u001b[39m\u001b[38;5;124m\"\u001b[39m\u001b[38;5;124mConverted \u001b[39m\u001b[38;5;132;01m{\u001b[39;00minput_file\u001b[38;5;132;01m}\u001b[39;00m\u001b[38;5;124m to \u001b[39m\u001b[38;5;132;01m{\u001b[39;00moutput_file\u001b[38;5;132;01m}\u001b[39;00m\u001b[38;5;124m with all charges set to zero.\u001b[39m\u001b[38;5;124m\"\u001b[39m)\n\u001b[1;32m     16\u001b[0m \u001b[38;5;66;03m# Example usage\u001b[39;00m\n\u001b[0;32m---> 17\u001b[0m \u001b[43mpdb_to_pdbqt\u001b[49m\u001b[43m(\u001b[49m\u001b[38;5;124;43m\"\u001b[39;49m\u001b[38;5;124;43minput.pdb\u001b[39;49m\u001b[38;5;124;43m\"\u001b[39;49m\u001b[43m,\u001b[49m\u001b[43m \u001b[49m\u001b[38;5;124;43m\"\u001b[39;49m\u001b[38;5;124;43moutput.pdbqt\u001b[39;49m\u001b[38;5;124;43m\"\u001b[39;49m\u001b[43m)\u001b[49m\n",
      "Cell \u001b[0;32mIn[19], line 5\u001b[0m, in \u001b[0;36mpdb_to_pdbqt\u001b[0;34m(input_file, output_file)\u001b[0m\n\u001b[1;32m      3\u001b[0m \u001b[38;5;28;01mdef\u001b[39;00m \u001b[38;5;21mpdb_to_pdbqt\u001b[39m(input_file, output_file):\n\u001b[1;32m      4\u001b[0m     \u001b[38;5;66;03m# Read the PDB file\u001b[39;00m\n\u001b[0;32m----> 5\u001b[0m     mol \u001b[38;5;241m=\u001b[39m \u001b[38;5;28mnext\u001b[39m(\u001b[43mpybel\u001b[49m\u001b[38;5;241;43m.\u001b[39;49m\u001b[43mreadfile\u001b[49m\u001b[43m(\u001b[49m\u001b[38;5;124;43m\"\u001b[39;49m\u001b[38;5;124;43m2q0s_pdb1.pdb\u001b[39;49m\u001b[38;5;124;43m\"\u001b[39;49m\u001b[43m,\u001b[49m\u001b[43m \u001b[49m\u001b[43minput_file\u001b[49m\u001b[43m)\u001b[49m)\n\u001b[1;32m      7\u001b[0m     \u001b[38;5;66;03m# Set all partial charges to zero\u001b[39;00m\n\u001b[1;32m      8\u001b[0m     \u001b[38;5;28;01mfor\u001b[39;00m atom \u001b[38;5;129;01min\u001b[39;00m mol\u001b[38;5;241m.\u001b[39matoms:\n",
      "File \u001b[0;32m~/miniconda3/envs/kd1500/lib/python3.12/site-packages/openbabel/pybel.py:159\u001b[0m, in \u001b[0;36mreadfile\u001b[0;34m(format, filename, opt)\u001b[0m\n\u001b[1;32m    157\u001b[0m         obconversion\u001b[38;5;241m.\u001b[39mAddOption(k, obconversion\u001b[38;5;241m.\u001b[39mINOPTIONS, \u001b[38;5;28mstr\u001b[39m(v))\n\u001b[1;32m    158\u001b[0m \u001b[38;5;28;01mif\u001b[39;00m \u001b[38;5;129;01mnot\u001b[39;00m formatok:\n\u001b[0;32m--> 159\u001b[0m     \u001b[38;5;28;01mraise\u001b[39;00m \u001b[38;5;167;01mValueError\u001b[39;00m(\u001b[38;5;124m\"\u001b[39m\u001b[38;5;132;01m%s\u001b[39;00m\u001b[38;5;124m is not a recognised Open Babel format\u001b[39m\u001b[38;5;124m\"\u001b[39m \u001b[38;5;241m%\u001b[39m \u001b[38;5;28mformat\u001b[39m)\n\u001b[1;32m    160\u001b[0m \u001b[38;5;28;01mif\u001b[39;00m \u001b[38;5;129;01mnot\u001b[39;00m os\u001b[38;5;241m.\u001b[39mpath\u001b[38;5;241m.\u001b[39misfile(filename):\n\u001b[1;32m    161\u001b[0m     \u001b[38;5;28;01mraise\u001b[39;00m \u001b[38;5;167;01mIOError\u001b[39;00m(\u001b[38;5;124m\"\u001b[39m\u001b[38;5;124mNo such file: \u001b[39m\u001b[38;5;124m'\u001b[39m\u001b[38;5;132;01m%s\u001b[39;00m\u001b[38;5;124m'\u001b[39m\u001b[38;5;124m\"\u001b[39m \u001b[38;5;241m%\u001b[39m filename)\n",
      "\u001b[0;31mValueError\u001b[0m: 2q0s_pdb1.pdb is not a recognised Open Babel format"
     ]
    }
   ],
   "source": [
    "from openbabel import openbabel, pybel\n",
    "\n",
    "def pdb_to_pdbqt(input_file, output_file):\n",
    "    # Read the PDB file\n",
    "    mol = next(pybel.readfile(\"2q0s_pdb1.pdb\", input_file))\n",
    "\n",
    "    # Set all partial charges to zero\n",
    "    for atom in mol.atoms:\n",
    "        atom.partialcharge = 0.0\n",
    "\n",
    "    # Set output format to pdbqt\n",
    "    mol.write(\"pdbqt\", output_file, overwrite=True)\n",
    "\n",
    "    print(f\"Converted {input_file} to {output_file} with all charges set to zero.\")\n",
    "\n",
    "# Example usage\n",
    "pdb_to_pdbqt(\"input.pdb\", \"output.pdbqt\")\n"
   ]
  },
  {
   "cell_type": "code",
   "execution_count": 20,
   "id": "e02fb46f",
   "metadata": {},
   "outputs": [
    {
     "data": {
      "text/plain": [
       "True"
      ]
     },
     "execution_count": 20,
     "metadata": {},
     "output_type": "execute_result"
    }
   ],
   "source": [
    "from openbabel import openbabel\n",
    "\n",
    "obConversion = openbabel.OBConversion()\n",
    "obConversion.SetInAndOutFormats(\"pdb\", \"pdbqt\")\n",
    "\n",
    "mol = openbabel.OBMol()\n",
    "obConversion.ReadFile(mol, \"pdb/2q0s_pdb1.pdb\")\n",
    "obConversion.WriteFile(mol, \"pdbqt/2q0s.pdbqt\")"
   ]
  }
 ],
 "metadata": {
  "kernelspec": {
   "display_name": "kd1500",
   "language": "python",
   "name": "python3"
  },
  "language_info": {
   "codemirror_mode": {
    "name": "ipython",
    "version": 3
   },
   "file_extension": ".py",
   "mimetype": "text/x-python",
   "name": "python",
   "nbconvert_exporter": "python",
   "pygments_lexer": "ipython3",
   "version": "3.12.7"
  }
 },
 "nbformat": 4,
 "nbformat_minor": 5
}
