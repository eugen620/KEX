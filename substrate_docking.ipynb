{
 "cells": [
  {
   "cell_type": "code",
   "execution_count": 1,
   "id": "db728cf6-03f5-488b-95e3-c788826df818",
   "metadata": {},
   "outputs": [
    {
     "data": {
      "application/vnd.jupyter.widget-view+json": {
       "model_id": "c015ef7f94414412b8be52f70979809f",
       "version_major": 2,
       "version_minor": 0
      },
      "text/plain": []
     },
     "metadata": {},
     "output_type": "display_data"
    }
   ],
   "source": [
    "import nglview as nv\n",
    "from script import KEX\n",
    "from openbabel import openbabel"
   ]
  },
  {
   "cell_type": "markdown",
   "id": "1b19ae1b-1b81-47c0-934c-54fd7a12e664",
   "metadata": {},
   "source": [
    "## Förbereda 2q0s filen"
   ]
  },
  {
   "cell_type": "markdown",
   "id": "afff18d3-c394-49bf-9817-490963656cf1",
   "metadata": {},
   "source": [
    " - Inhibitor tas bort manuellt i pymol\n",
    " - Serinet modifieras i openbabel via konvertering via xyz format"
   ]
  },
  {
   "cell_type": "code",
   "execution_count": 2,
   "id": "357641b0-53b0-4aee-87df-63708b3d0491",
   "metadata": {},
   "outputs": [],
   "source": [
    "def pdb_to_xyz_to_pdb(input_pdb):\n",
    "    obConversion = openbabel.OBConversion()\n",
    "    \n",
    "    # Läs in PDB\n",
    "    obConversion.SetInAndOutFormats(\"pdb\", \"xyz\")\n",
    "    mol = openbabel.OBMol()\n",
    "    obConversion.ReadFile(mol, input_pdb)\n",
    "    \n",
    "    # Skriv till XYZ\n",
    "    obConversion.WriteFile(mol, \"temp.xyz\")\n",
    "    obConversion.CloseOutFile()\n",
    "    \n",
    "    # Läs in XYZ\n",
    "    obConversion = openbabel.OBConversion()\n",
    "    obConversion.SetInAndOutFormats(\"xyz\", \"pdb\")\n",
    "    mol2 = openbabel.OBMol()\n",
    "    obConversion.ReadFile(mol2, \"temp.xyz\")\n",
    "    \n",
    "    # Skriv till slutlig PDB\n",
    "    obConversion.WriteFile(mol2, \"test.pdb\")\n",
    "    obConversion.CloseOutFile()"
   ]
  },
  {
   "cell_type": "code",
   "execution_count": 3,
   "id": "694ce7f9-1abd-47db-a75b-5122efc569f2",
   "metadata": {},
   "outputs": [],
   "source": [
    "pdb_to_xyz_to_pdb(\"pymol_2q0s_serine.pdb\")\n",
    "#Får inte ut någon ändring av SER"
   ]
  },
  {
   "cell_type": "markdown",
   "id": "dba3d4a5-16eb-4dd5-b9e1-85738335b07e",
   "metadata": {},
   "source": [
    "## Ladda in 2q0s"
   ]
  },
  {
   "cell_type": "code",
   "execution_count": 4,
   "id": "450c577c-c8da-4618-b12d-316c0e75e2f6",
   "metadata": {},
   "outputs": [],
   "source": [
    "s = KEX(\"2q0s_full.pdb\")"
   ]
  },
  {
   "cell_type": "markdown",
   "id": "8a66feae-f99c-4478-b4f2-9948014b3d32",
   "metadata": {},
   "source": [
    "## Skapa liganderna "
   ]
  },
  {
   "cell_type": "code",
   "execution_count": 5,
   "id": "0a6b19e6-c4ec-4ac7-abcd-54ddfa7ceab8",
   "metadata": {},
   "outputs": [
    {
     "name": "stdout",
     "output_type": "stream",
     "text": [
      "Molecule saved as S_substrate.mol\n",
      "Molecule saved as R_substrate.mol\n"
     ]
    }
   ],
   "source": [
    "s.create_molecule(smiles = \"C[C@H](O)c1ccccc1\", name = \"S_substrate\", show_structure= False)\n",
    "s.create_molecule(smiles = \"C[C@@H](O)c1ccccc1\", name = \"R_substrate\", show_structure= False)"
   ]
  },
  {
   "cell_type": "code",
   "execution_count": 6,
   "id": "ed97c0a1-6341-4163-900a-f5fcc090be7a",
   "metadata": {},
   "outputs": [],
   "source": [
    "s.mol_to_pdbqt_new(\"S_substrate.mol\", add_ligand = True)\n",
    "s.mol_to_pdbqt_new(\"R_substrate.mol\", add_ligand = True)"
   ]
  },
  {
   "cell_type": "markdown",
   "id": "f3608749-c0fc-4ec4-be37-651c76d4cc35",
   "metadata": {},
   "source": [
    "## Mutera"
   ]
  },
  {
   "cell_type": "code",
   "execution_count": 7,
   "id": "8d1e3df2-2a30-4404-b752-73d092a37614",
   "metadata": {},
   "outputs": [],
   "source": [
    "# s.mutations(subunits = \"All\", positions = (149, 153), mutations = (\"VAL\", \"VAL\"), label = \"serine)\n",
    "# s.mutations(subunits = \"All\", positions = (153, 173), mutations = (\"VAL\", \"VAL\"), label = \"serine\")"
   ]
  },
  {
   "cell_type": "markdown",
   "id": "40161949-0773-4c79-a642-500c6b44171e",
   "metadata": {},
   "source": [
    "## MD"
   ]
  },
  {
   "cell_type": "code",
   "execution_count": 8,
   "id": "a03124d4-db62-4593-8205-08bc747453bb",
   "metadata": {},
   "outputs": [],
   "source": [
    "# Lägg till i detta i klassen, allt kan göras i pdb mappen"
   ]
  },
  {
   "cell_type": "markdown",
   "id": "9b07c567-69e4-457d-be67-08f1f28c0226",
   "metadata": {},
   "source": [
    "## Acetylerat serin"
   ]
  },
  {
   "attachments": {
    "dd053280-080a-4daa-884f-416323989552.png": {
     "image/png": "[encoded data removed]"
    }
   },
   "cell_type": "markdown",
   "id": "63de682f-47f2-4e60-aae1-432527791bf0",
   "metadata": {},
   "source": [
    "![image.png](attachment:dd053280-080a-4daa-884f-416323989552.png)"
   ]
  },
  {
   "cell_type": "code",
   "execution_count": 9,
   "id": "80950f04-1d19-4d9e-8894-c4892b564073",
   "metadata": {},
   "outputs": [
    {
     "data": {
      "application/3dmoljs_load.v0": "<div id=\"3dmolviewer_17448829260501573\"  style=\"position: relative; width: 400px; height: 400px;\">\n        <p id=\"3dmolwarning_17448829260501573\" style=\"background-color:#ffcccc;color:black\">3Dmol.js failed to load for some reason.  Please check your browser console for error messages.<br></p>\n        </div>\n<script>\n\nvar loadScriptAsync = function(uri){\n  return new Promise((resolve, reject) => {\n    //this is to ignore the existence of requirejs amd\n    var savedexports, savedmodule;\n    if (typeof exports !== 'undefined') savedexports = exports;\n    else exports = {}\n    if (typeof module !== 'undefined') savedmodule = module;\n    else module = {}\n\n    var tag = document.createElement('script');\n    tag.src = uri;\n    tag.async = true;\n    tag.onload = () => {\n        exports = savedexports;\n        module = savedmodule;\n        resolve();\n    };\n  var firstScriptTag = document.getElementsByTagName('script')[0];\n  firstScriptTag.parentNode.insertBefore(tag, firstScriptTag);\n});\n};\n\nif(typeof $3Dmolpromise === 'undefined') {\n$3Dmolpromise = null;\n  $3Dmolpromise = loadScriptAsync('https://cdnjs.cloudflare.com/ajax/libs/3Dmol/2.4.0/3Dmol-min.js');\n}\n\nvar viewer_17448829260501573 = null;\nvar warn = document.getElementById(\"3dmolwarning_17448829260501573\");\nif(warn) {\n    warn.parentNode.removeChild(warn);\n}\n$3Dmolpromise.then(function() {\nviewer_17448829260501573 = $3Dmol.createViewer(document.getElementById(\"3dmolviewer_17448829260501573\"),{backgroundColor:\"white\"});\nviewer_17448829260501573.zoomTo();\n\tviewer_17448829260501573.addModel(\"\\n     RDKit          3D\\n\\n 19 18  0  0  0  0  0  0  0  0999 V2000\\n   -2.4296    1.0749   -1.0194 N   0  0  0  0  0  0  0  0  0  0  0  0\\n   -1.1428    0.3395   -0.8859 C   0  0  1  0  0  0  0  0  0  0  0  0\\n   -0.0779    1.2139   -0.2145 C   0  0  0  0  0  0  0  0  0  0  0  0\\n    1.2328    0.6349   -0.3666 O   0  0  0  0  0  0  0  0  0  0  0  0\\n    1.7134   -0.0452    0.7108 C   0  0  0  0  0  0  0  0  0  0  0  0\\n    1.1325   -0.1849    1.7777 O   0  0  0  0  0  0  0  0  0  0  0  0\\n    3.0647   -0.6107    0.3997 C   0  0  0  0  0  0  0  0  0  0  0  0\\n   -1.3411   -0.9405   -0.0730 C   0  0  0  0  0  0  0  0  0  0  0  0\\n   -0.7120   -1.9791   -0.2006 O   0  0  0  0  0  0  0  0  0  0  0  0\\n   -2.3042   -0.8332    0.8706 O   0  0  0  0  0  0  0  0  0  0  0  0\\n   -2.8240    1.1601   -0.0764 H   0  0  0  0  0  0  0  0  0  0  0  0\\n   -3.0911    0.4711   -1.5101 H   0  0  0  0  0  0  0  0  0  0  0  0\\n   -0.8172    0.0404   -1.8886 H   0  0  0  0  0  0  0  0  0  0  0  0\\n   -0.0316    2.1873   -0.7171 H   0  0  0  0  0  0  0  0  0  0  0  0\\n   -0.3161    1.4173    0.8369 H   0  0  0  0  0  0  0  0  0  0  0  0\\n    2.9875   -1.3193   -0.4288 H   0  0  0  0  0  0  0  0  0  0  0  0\\n    3.7573    0.1977    0.1524 H   0  0  0  0  0  0  0  0  0  0  0  0\\n    3.4469   -1.1398    1.2774 H   0  0  0  0  0  0  0  0  0  0  0  0\\n   -2.2479   -1.6845    1.3555 H   0  0  0  0  0  0  0  0  0  0  0  0\\n  1  2  1  0\\n  2  3  1  0\\n  3  4  1  0\\n  4  5  1  0\\n  5  6  2  0\\n  5  7  1  0\\n  2  8  1  0\\n  8  9  2  0\\n  8 10  1  0\\n  1 11  1  0\\n  1 12  1  0\\n  2 13  1  6\\n  3 14  1  0\\n  3 15  1  0\\n  7 16  1  0\\n  7 17  1  0\\n  7 18  1  0\\n 10 19  1  0\\nM  END\\n\",\"mol\");\n\tviewer_17448829260501573.setStyle({\"stick\": {}});\n\tviewer_17448829260501573.zoomTo();\nviewer_17448829260501573.render();\n});\n</script>",
      "text/html": [
       "<div id=\"3dmolviewer_17448829260501573\"  style=\"position: relative; width: 400px; height: 400px;\">\n",
       "        <p id=\"3dmolwarning_17448829260501573\" style=\"background-color:#ffcccc;color:black\">3Dmol.js failed to load for some reason.  Please check your browser console for error messages.<br></p>\n",
       "        </div>\n",
       "<script>\n",
       "\n",
       "var loadScriptAsync = function(uri){\n",
       "  return new Promise((resolve, reject) => {\n",
       "    //this is to ignore the existence of requirejs amd\n",
       "    var savedexports, savedmodule;\n",
       "    if (typeof exports !== 'undefined') savedexports = exports;\n",
       "    else exports = {}\n",
       "    if (typeof module !== 'undefined') savedmodule = module;\n",
       "    else module = {}\n",
       "\n",
       "    var tag = document.createElement('script');\n",
       "    tag.src = uri;\n",
       "    tag.async = true;\n",
       "    tag.onload = () => {\n",
       "        exports = savedexports;\n",
       "        module = savedmodule;\n",
       "        resolve();\n",
       "    };\n",
       "  var firstScriptTag = document.getElementsByTagName('script')[0];\n",
       "  firstScriptTag.parentNode.insertBefore(tag, firstScriptTag);\n",
       "});\n",
       "};\n",
       "\n",
       "if(typeof $3Dmolpromise === 'undefined') {\n",
       "$3Dmolpromise = null;\n",
       "  $3Dmolpromise = loadScriptAsync('https://cdnjs.cloudflare.com/ajax/libs/3Dmol/2.4.0/3Dmol-min.js');\n",
       "}\n",
       "\n",
       "var viewer_17448829260501573 = null;\n",
       "var warn = document.getElementById(\"3dmolwarning_17448829260501573\");\n",
       "if(warn) {\n",
       "    warn.parentNode.removeChild(warn);\n",
       "}\n",
       "$3Dmolpromise.then(function() {\n",
       "viewer_17448829260501573 = $3Dmol.createViewer(document.getElementById(\"3dmolviewer_17448829260501573\"),{backgroundColor:\"white\"});\n",
       "viewer_17448829260501573.zoomTo();\n",
       "\tviewer_17448829260501573.addModel(\"\\n     RDKit          3D\\n\\n 19 18  0  0  0  0  0  0  0  0999 V2000\\n   -2.4296    1.0749   -1.0194 N   0  0  0  0  0  0  0  0  0  0  0  0\\n   -1.1428    0.3395   -0.8859 C   0  0  1  0  0  0  0  0  0  0  0  0\\n   -0.0779    1.2139   -0.2145 C   0  0  0  0  0  0  0  0  0  0  0  0\\n    1.2328    0.6349   -0.3666 O   0  0  0  0  0  0  0  0  0  0  0  0\\n    1.7134   -0.0452    0.7108 C   0  0  0  0  0  0  0  0  0  0  0  0\\n    1.1325   -0.1849    1.7777 O   0  0  0  0  0  0  0  0  0  0  0  0\\n    3.0647   -0.6107    0.3997 C   0  0  0  0  0  0  0  0  0  0  0  0\\n   -1.3411   -0.9405   -0.0730 C   0  0  0  0  0  0  0  0  0  0  0  0\\n   -0.7120   -1.9791   -0.2006 O   0  0  0  0  0  0  0  0  0  0  0  0\\n   -2.3042   -0.8332    0.8706 O   0  0  0  0  0  0  0  0  0  0  0  0\\n   -2.8240    1.1601   -0.0764 H   0  0  0  0  0  0  0  0  0  0  0  0\\n   -3.0911    0.4711   -1.5101 H   0  0  0  0  0  0  0  0  0  0  0  0\\n   -0.8172    0.0404   -1.8886 H   0  0  0  0  0  0  0  0  0  0  0  0\\n   -0.0316    2.1873   -0.7171 H   0  0  0  0  0  0  0  0  0  0  0  0\\n   -0.3161    1.4173    0.8369 H   0  0  0  0  0  0  0  0  0  0  0  0\\n    2.9875   -1.3193   -0.4288 H   0  0  0  0  0  0  0  0  0  0  0  0\\n    3.7573    0.1977    0.1524 H   0  0  0  0  0  0  0  0  0  0  0  0\\n    3.4469   -1.1398    1.2774 H   0  0  0  0  0  0  0  0  0  0  0  0\\n   -2.2479   -1.6845    1.3555 H   0  0  0  0  0  0  0  0  0  0  0  0\\n  1  2  1  0\\n  2  3  1  0\\n  3  4  1  0\\n  4  5  1  0\\n  5  6  2  0\\n  5  7  1  0\\n  2  8  1  0\\n  8  9  2  0\\n  8 10  1  0\\n  1 11  1  0\\n  1 12  1  0\\n  2 13  1  6\\n  3 14  1  0\\n  3 15  1  0\\n  7 16  1  0\\n  7 17  1  0\\n  7 18  1  0\\n 10 19  1  0\\nM  END\\n\",\"mol\");\n",
       "\tviewer_17448829260501573.setStyle({\"stick\": {}});\n",
       "\tviewer_17448829260501573.zoomTo();\n",
       "viewer_17448829260501573.render();\n",
       "});\n",
       "</script>"
      ]
     },
     "metadata": {},
     "output_type": "display_data"
    },
    {
     "name": "stdout",
     "output_type": "stream",
     "text": [
      "Molecule saved as acetyl_serine.mol\n"
     ]
    }
   ],
   "source": [
    "s.create_molecule(smiles = \"N[C@@H](COC(=O)C)C(=O)O\", name = \"acetyl_serine\", show_structure= True)"
   ]
  },
  {
   "cell_type": "code",
   "execution_count": 10,
   "id": "5c4b99bd-0121-4ac8-982f-ea5c7f451efb",
   "metadata": {},
   "outputs": [],
   "source": [
    "s.mol_to_pdbqt_new(\"acetyl_serine.mol\", add_ligand = False)"
   ]
  },
  {
   "cell_type": "markdown",
   "id": "e9502ca1-462c-4007-bf67-a76592aeb155",
   "metadata": {},
   "source": [
    "## Acetyleringen som ska byggas i pymol"
   ]
  },
  {
   "cell_type": "markdown",
   "id": "01dc681f-c8b9-444e-abd0-465e74229443",
   "metadata": {},
   "source": [
    "- ATOM     14  C   UNK     1       1.948  -0.352   0.284  0.00  0.00    +0.304 C \n",
    "- ATOM     15  O   UNK     1       1.824  -1.101   1.242  0.00  0.00    -0.251 OA\n",
    "- BRANCH  14  16\n",
    "- ATOM     16  C   UNK     1       3.181   0.440  -0.025  0.00  0.00    +0.033 C \n",
    "- ATOM     17  H   UNK     1       2.950   1.508  -0.003  0.00  0.00    +0.034 HD\n",
    "- ATOM     18  H   UNK     1       3.944   0.232   0.731  0.00  0.00    +0.034 HD\n",
    "- ATOM     19  H   UNK     1       3.572   0.150  -1.003  0.00  0.00    +0.034 HD"
   ]
  },
  {
   "cell_type": "markdown",
   "id": "ff12fe08-ec7c-4c75-916e-bb3c48a4a5b9",
   "metadata": {},
   "source": [
    "## Konvertering från pqr till pdbqt"
   ]
  },
  {
   "cell_type": "code",
   "execution_count": 11,
   "id": "59993a31-347e-4581-ac2b-1905ba712cb2",
   "metadata": {},
   "outputs": [],
   "source": [
    "#u = mda.Universe(infile.pqr)\n",
    "#u.atoms.write(outfile.pdbqt')\n",
    "# spara alla byggda filer i pdb mappen och lägg in namnen i pdbfilenames listan inför docking"
   ]
  },
  {
   "cell_type": "markdown",
   "id": "56197ca9-79a4-4d49-a910-16713d390db5",
   "metadata": {},
   "source": [
    "## Docking i smina"
   ]
  },
  {
   "cell_type": "code",
   "execution_count": 12,
   "id": "d2f787ac-c6a2-4111-9a88-263cf66cd855",
   "metadata": {},
   "outputs": [],
   "source": [
    "#!smina --receptor 2q0s_serin_md.pdbqt --ligand R_prod_cov_final.pdbqt --out Rdocked.pdbqt --custom_scoring custom_scoring_new.txt \\\n",
    "#    --center_x 20.721043365249557 --center_y 54.6562179849733 --center_z 28.330812924930342 --size_x 18 --size_y 18 --size_z 18 \\\n",
    "#    --exhaustiveness 20 --num_modes 9 --log smina_output.log"
   ]
  }
 ],
 "metadata": {
  "kernelspec": {
   "display_name": "Python 3 (ipykernel)",
   "language": "python",
   "name": "python3"
  },
  "language_info": {
   "codemirror_mode": {
    "name": "ipython",
    "version": 3
   },
   "file_extension": ".py",
   "mimetype": "text/x-python",
   "name": "python",
   "nbconvert_exporter": "python",
   "pygments_lexer": "ipython3",
   "version": "3.12.7"
  }
 },
 "nbformat": 4,
 "nbformat_minor": 5
}
