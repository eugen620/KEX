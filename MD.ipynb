{
 "cells": [
  {
   "cell_type": "markdown",
   "id": "c478144e-7ad8-499d-9879-0a3f6e0cb94e",
   "metadata": {},
   "source": [
    "Lite saker att tänka på\n",
    "- starta om kernel mellan körningar, man verkar behöva cleara simulation variabeln som skapas\n",
    "- radera md_log.txt och output.txt mellan körningar, koden appendar bara och skapar inte nya filer om man kör cellen fler ggr"
   ]
  },
  {
   "cell_type": "code",
   "execution_count": 1,
   "id": "963cbae6-2020-4ffe-8261-7bd62e4bb50e",
   "metadata": {},
   "outputs": [],
   "source": [
    "from openmm.app import *\n",
    "from openmm import *\n",
    "from openmm.unit import *\n",
    "from sys import stdout\n",
    "\n",
    "#pdb = PDBFile(\"F154V_F174V_serin.pdbqt\")\n",
    "#pdb = PDBFile(\"2q0s_serine_clean.pdb\")\n",
    "#pdb = PDBFile(\"F149V_F153V_serine.pdb\")\n",
    "pdb = PDBFile(\"2q0s_pdb1.pdb\")"
   ]
  },
  {
   "cell_type": "code",
   "execution_count": 2,
   "id": "d75c5aa3-a1d2-4505-b9fd-5afa7d9a76b4",
   "metadata": {},
   "outputs": [],
   "source": [
    "\n",
    "# Specify the forcefield\n",
    "forcefield = ForceField('amber14-all.xml', 'amber14/tip3pfb.xml')"
   ]
  },
  {
   "cell_type": "code",
   "execution_count": 3,
   "id": "7cd1c1fe-1826-4a10-94cf-520fe385bbd8",
   "metadata": {},
   "outputs": [],
   "source": [
    "modeller = Modeller(pdb.topology, pdb.positions)\n",
    "modeller.deleteWater()\n"
   ]
  },
  {
   "cell_type": "code",
   "execution_count": 4,
   "id": "c0913f29-db53-4c21-b229-c1670cf71381",
   "metadata": {},
   "outputs": [
    {
     "ename": "ValueError",
     "evalue": "No template found for residue 10 (SER).  The set of atoms matches NGLU, but the bonds are different.  For more information, see https://github.com/openmm/openmm/wiki/Frequently-Asked-Questions#template",
     "output_type": "error",
     "traceback": [
      "\u001b[0;31m---------------------------------------------------------------------------\u001b[0m",
      "\u001b[0;31mValueError\u001b[0m                                Traceback (most recent call last)",
      "Cell \u001b[0;32mIn[4], line 1\u001b[0m\n\u001b[0;32m----> 1\u001b[0m residues\u001b[38;5;241m=\u001b[39m\u001b[43mmodeller\u001b[49m\u001b[38;5;241;43m.\u001b[39;49m\u001b[43maddHydrogens\u001b[49m\u001b[43m(\u001b[49m\u001b[43mforcefield\u001b[49m\u001b[43m)\u001b[49m\n",
      "File \u001b[0;32m~/miniconda3/envs/kd1500/lib/python3.12/site-packages/openmm/app/modeller.py:1035\u001b[0m, in \u001b[0;36mModeller.addHydrogens\u001b[0;34m(self, forcefield, pH, variants, platform, residueTemplates)\u001b[0m\n\u001b[1;32m   1030\u001b[0m addedH \u001b[38;5;241m=\u001b[39m \u001b[38;5;28mset\u001b[39m(newIndices)  \u001b[38;5;66;03m# keep track of Hs added\u001b[39;00m\n\u001b[1;32m   1032\u001b[0m \u001b[38;5;28;01mif\u001b[39;00m forcefield \u001b[38;5;129;01mis\u001b[39;00m \u001b[38;5;129;01mnot\u001b[39;00m \u001b[38;5;28;01mNone\u001b[39;00m:\n\u001b[1;32m   1033\u001b[0m     \u001b[38;5;66;03m# Use the ForceField the user specified.\u001b[39;00m\n\u001b[0;32m-> 1035\u001b[0m     system \u001b[38;5;241m=\u001b[39m \u001b[43mforcefield\u001b[49m\u001b[38;5;241;43m.\u001b[39;49m\u001b[43mcreateSystem\u001b[49m\u001b[43m(\u001b[49m\u001b[43mnewTopology\u001b[49m\u001b[43m,\u001b[49m\u001b[43m \u001b[49m\u001b[43mrigidWater\u001b[49m\u001b[38;5;241;43m=\u001b[39;49m\u001b[38;5;28;43;01mFalse\u001b[39;49;00m\u001b[43m,\u001b[49m\u001b[43m \u001b[49m\u001b[43mnonbondedMethod\u001b[49m\u001b[38;5;241;43m=\u001b[39;49m\u001b[43mCutoffNonPeriodic\u001b[49m\u001b[43m,\u001b[49m\u001b[43m \u001b[49m\u001b[43mresidueTemplates\u001b[49m\u001b[38;5;241;43m=\u001b[39;49m\u001b[43mnewResidueTemplates\u001b[49m\u001b[43m)\u001b[49m\n\u001b[1;32m   1036\u001b[0m     \u001b[38;5;28;01mfor\u001b[39;00m i \u001b[38;5;129;01min\u001b[39;00m \u001b[38;5;28mrange\u001b[39m(system\u001b[38;5;241m.\u001b[39mgetNumParticles()):\n\u001b[1;32m   1037\u001b[0m         \u001b[38;5;28;01mif\u001b[39;00m i \u001b[38;5;129;01mnot\u001b[39;00m \u001b[38;5;129;01min\u001b[39;00m addedH:\n\u001b[1;32m   1038\u001b[0m             \u001b[38;5;66;03m# Existing atom, make it immobile.\u001b[39;00m\n",
      "File \u001b[0;32m~/miniconda3/envs/kd1500/lib/python3.12/site-packages/openmm/app/forcefield.py:1257\u001b[0m, in \u001b[0;36mForceField.createSystem\u001b[0;34m(self, topology, nonbondedMethod, nonbondedCutoff, constraints, rigidWater, removeCMMotion, hydrogenMass, residueTemplates, ignoreExternalBonds, switchDistance, flexibleConstraints, drudeMass, **args)\u001b[0m\n\u001b[1;32m   1253\u001b[0m rigidResidue \u001b[38;5;241m=\u001b[39m [\u001b[38;5;28;01mFalse\u001b[39;00m]\u001b[38;5;241m*\u001b[39mtopology\u001b[38;5;241m.\u001b[39mgetNumResidues()\n\u001b[1;32m   1255\u001b[0m \u001b[38;5;66;03m# Find the template matching each residue and assign atom types.\u001b[39;00m\n\u001b[0;32m-> 1257\u001b[0m templateForResidue \u001b[38;5;241m=\u001b[39m \u001b[38;5;28;43mself\u001b[39;49m\u001b[38;5;241;43m.\u001b[39;49m\u001b[43m_matchAllResiduesToTemplates\u001b[49m\u001b[43m(\u001b[49m\u001b[43mdata\u001b[49m\u001b[43m,\u001b[49m\u001b[43m \u001b[49m\u001b[43mtopology\u001b[49m\u001b[43m,\u001b[49m\u001b[43m \u001b[49m\u001b[43mresidueTemplates\u001b[49m\u001b[43m,\u001b[49m\u001b[43m \u001b[49m\u001b[43mignoreExternalBonds\u001b[49m\u001b[43m)\u001b[49m\n\u001b[1;32m   1258\u001b[0m \u001b[38;5;28;01mfor\u001b[39;00m res \u001b[38;5;129;01min\u001b[39;00m topology\u001b[38;5;241m.\u001b[39mresidues():\n\u001b[1;32m   1259\u001b[0m     \u001b[38;5;28;01mif\u001b[39;00m res\u001b[38;5;241m.\u001b[39mname \u001b[38;5;241m==\u001b[39m \u001b[38;5;124m'\u001b[39m\u001b[38;5;124mHOH\u001b[39m\u001b[38;5;124m'\u001b[39m:\n\u001b[1;32m   1260\u001b[0m         \u001b[38;5;66;03m# Determine whether this should be a rigid water.\u001b[39;00m\n",
      "File \u001b[0;32m~/miniconda3/envs/kd1500/lib/python3.12/site-packages/openmm/app/forcefield.py:1472\u001b[0m, in \u001b[0;36mForceField._matchAllResiduesToTemplates\u001b[0;34m(self, data, topology, residueTemplates, ignoreExternalBonds, ignoreExtraParticles, recordParameters)\u001b[0m\n\u001b[1;32m   1470\u001b[0m                 \u001b[38;5;28;01mbreak\u001b[39;00m\n\u001b[1;32m   1471\u001b[0m \u001b[38;5;28;01mif\u001b[39;00m matches \u001b[38;5;129;01mis\u001b[39;00m \u001b[38;5;28;01mNone\u001b[39;00m:\n\u001b[0;32m-> 1472\u001b[0m     \u001b[38;5;28;01mraise\u001b[39;00m \u001b[38;5;167;01mValueError\u001b[39;00m(\u001b[38;5;124m'\u001b[39m\u001b[38;5;124mNo template found for residue \u001b[39m\u001b[38;5;132;01m%d\u001b[39;00m\u001b[38;5;124m (\u001b[39m\u001b[38;5;132;01m%s\u001b[39;00m\u001b[38;5;124m).  \u001b[39m\u001b[38;5;132;01m%s\u001b[39;00m\u001b[38;5;124m  For more information, see https://github.com/openmm/openmm/wiki/Frequently-Asked-Questions#template\u001b[39m\u001b[38;5;124m'\u001b[39m \u001b[38;5;241m%\u001b[39m (res\u001b[38;5;241m.\u001b[39mindex\u001b[38;5;241m+\u001b[39m\u001b[38;5;241m1\u001b[39m, res\u001b[38;5;241m.\u001b[39mname, _findMatchErrors(\u001b[38;5;28mself\u001b[39m, res)))\n\u001b[1;32m   1473\u001b[0m \u001b[38;5;28;01melse\u001b[39;00m:\n\u001b[1;32m   1474\u001b[0m     \u001b[38;5;28;01mif\u001b[39;00m recordParameters:\n",
      "\u001b[0;31mValueError\u001b[0m: No template found for residue 10 (SER).  The set of atoms matches NGLU, but the bonds are different.  For more information, see https://github.com/openmm/openmm/wiki/Frequently-Asked-Questions#template"
     ]
    }
   ],
   "source": [
    "residues=modeller.addHydrogens(forcefield)"
   ]
  },
  {
   "cell_type": "markdown",
   "id": "1187bd47-6f38-4d91-9bda-965f7ebc5d0a",
   "metadata": {},
   "source": [
    "## system setup"
   ]
  },
  {
   "cell_type": "code",
   "execution_count": 5,
   "id": "0aba8c0a-0578-4e36-a3be-c8717ebc0d6b",
   "metadata": {},
   "outputs": [],
   "source": [
    "#system = forcefield.createSystem(modeller.topology, nonbondedMethod=PME, nonbondedCutoff=1.5*nanometer, constraints=HBonds)\n",
    "system = forcefield.createSystem(modeller.topology, nonbondedMethod=NoCutoff, constraints=HBonds)\n",
    "integrator = LangevinMiddleIntegrator(300*kelvin, 1/picosecond, 0.004*picoseconds)\n",
    "simulation = Simulation(modeller.topology, system, integrator)\n",
    "simulation.context.setPositions(modeller.positions)"
   ]
  },
  {
   "cell_type": "markdown",
   "id": "d454db92-aff9-4e05-a105-73ee672a05a7",
   "metadata": {},
   "source": [
    "## inledande minimering"
   ]
  },
  {
   "cell_type": "code",
   "execution_count": 6,
   "id": "2e429409-5313-4608-801d-5aebd6cab7ce",
   "metadata": {},
   "outputs": [
    {
     "name": "stdout",
     "output_type": "stream",
     "text": [
      "Minimizing energy\n"
     ]
    }
   ],
   "source": [
    "print(\"Minimizing energy\")\n",
    "simulation.minimizeEnergy()\n",
    "\n"
   ]
  },
  {
   "cell_type": "markdown",
   "id": "0bd51b87-6549-42f2-9cef-7cd6998668f0",
   "metadata": {},
   "source": [
    "## setup simulation"
   ]
  },
  {
   "cell_type": "code",
   "execution_count": 7,
   "id": "1f1c3f69-c513-44e4-a025-9cceb0488618",
   "metadata": {},
   "outputs": [],
   "source": [
    "simulation.reporters.append(PDBReporter('output.pdb', 1000))\n",
    "simulation.reporters.append(StateDataReporter(stdout, 100, step=True,\n",
    "        potentialEnergy=True, temperature=True, volume=True))\n",
    "simulation.reporters.append(StateDataReporter(\"md_log.txt\", 100, step=True,\n",
    "        potentialEnergy=True, temperature=True, volume=True))"
   ]
  },
  {
   "cell_type": "markdown",
   "id": "3ce3f75d-3f40-4caa-bf6d-fdc5faed794d",
   "metadata": {},
   "source": [
    "## starta simulation"
   ]
  },
  {
   "cell_type": "code",
   "execution_count": 8,
   "id": "3c690f9e-55d3-440f-b765-9b9665de3d0c",
   "metadata": {},
   "outputs": [
    {
     "name": "stdout",
     "output_type": "stream",
     "text": [
      "Running NVT\n",
      "#\"Step\",\"Potential Energy (kJ/mole)\",\"Temperature (K)\",\"Box Volume (nm^3)\"\n",
      "100,-84241.08135986328,100.6008100762887,8.0\n",
      "200,-66282.71923828125,168.674696804876,8.0\n",
      "300,-54891.87567138672,213.74233792712783,8.0\n",
      "400,-46843.94323730469,244.04387860708712,8.0\n",
      "500,-42049.73352050781,262.9192765120905,8.0\n",
      "600,-39291.85876464844,277.1482914350782,8.0\n",
      "700,-36264.33996582031,283.56658194008577,8.0\n",
      "800,-34478.40710449219,288.5337619244022,8.0\n",
      "900,-33995.791015625,295.8511041080548,8.0\n",
      "1000,-32583.555786132812,296.3726733765304,8.0\n",
      "1100,-32569.57421875,298.35911648273594,8.0\n",
      "1200,-31875.33154296875,296.9110805126113,8.0\n",
      "1300,-33353.227294921875,301.47507162596816,8.0\n",
      "1400,-33557.883728027344,298.9399084640825,8.0\n",
      "1500,-33585.26306152344,297.2261340560412,8.0\n",
      "1600,-32832.85498046875,299.1872326524426,8.0\n",
      "1700,-32954.80615234375,300.9451713202625,8.0\n",
      "1800,-33087.6884765625,301.6520954789006,8.0\n",
      "1900,-33287.1181640625,302.2241933961618,8.0\n",
      "2000,-33046.89208984375,301.13952459508664,8.0\n",
      "2100,-33607.5830078125,303.5935913806733,8.0\n",
      "2200,-33587.72839355469,302.0811231519228,8.0\n",
      "2300,-33941.04345703125,302.4847039048003,8.0\n",
      "2400,-33673.855224609375,300.3963469807305,8.0\n",
      "2500,-34506.505126953125,301.01281200980134,8.0\n",
      "2600,-33934.82043457031,304.8081857211962,8.0\n",
      "2700,-33504.948486328125,302.1833502352466,8.0\n",
      "2800,-33244.51037597656,301.42957955406763,8.0\n",
      "2900,-33637.40588378906,304.18267113895246,8.0\n",
      "3000,-33801.857177734375,303.7981113151543,8.0\n",
      "3100,-34105.20446777344,303.1969041245383,8.0\n",
      "3200,-33805.218017578125,299.83687532315736,8.0\n",
      "3300,-33941.49267578125,300.67607733710497,8.0\n",
      "3400,-33968.09069824219,301.7869325518403,8.0\n",
      "3500,-33980.19812011719,301.0475134008462,8.0\n",
      "3600,-34374.273193359375,300.3452099597445,8.0\n",
      "3700,-34465.25231933594,299.2185648147954,8.0\n",
      "3800,-35049.818603515625,301.4387530174158,8.0\n",
      "3900,-34412.296142578125,300.6183909947377,8.0\n",
      "4000,-34686.70104980469,300.48514387762606,8.0\n",
      "4100,-33919.81994628906,297.9145880237763,8.0\n",
      "4200,-34040.42028808594,300.69895410732465,8.0\n",
      "4300,-34798.751708984375,302.61237634076815,8.0\n",
      "4400,-34047.43542480469,302.45003259163417,8.0\n",
      "4500,-33970.770263671875,300.6453161334211,8.0\n",
      "4600,-34925.83850097656,303.4642607736997,8.0\n",
      "4700,-34822.32116699219,302.67653388959235,8.0\n",
      "4800,-34119.90393066406,303.0822247036396,8.0\n",
      "4900,-33965.73095703125,300.74049541886836,8.0\n",
      "5000,-34227.420654296875,304.45654888383166,8.0\n",
      "5100,-34785.32604980469,300.7217625954206,8.0\n",
      "5200,-34281.4287109375,297.8420605119398,8.0\n",
      "5300,-34590.57019042969,298.5954273751352,8.0\n",
      "5400,-34497.66857910156,297.7276780176091,8.0\n",
      "5500,-35487.50964355469,299.4426777713184,8.0\n",
      "5600,-34907.927001953125,300.0076327982085,8.0\n",
      "5700,-35302.890869140625,297.3525564747384,8.0\n",
      "5800,-34397.35168457031,299.1054231293713,8.0\n",
      "5900,-34629.38952636719,302.584041315539,8.0\n",
      "6000,-34994.944091796875,303.71917533961874,8.0\n",
      "6100,-34610.1953125,299.81899925440496,8.0\n",
      "6200,-34928.33801269531,299.667615399038,8.0\n",
      "6300,-34520.06750488281,299.6474281947031,8.0\n",
      "6400,-34195.083984375,301.1050541079479,8.0\n",
      "6500,-33671.22119140625,299.5561442212494,8.0\n",
      "6600,-34886.594970703125,301.9426327954294,8.0\n",
      "6700,-34854.54211425781,299.6575695716048,8.0\n",
      "6800,-34873.89172363281,298.73192135337365,8.0\n",
      "6900,-34529.30432128906,298.52046913805094,8.0\n",
      "7000,-34421.80529785156,299.4110103263989,8.0\n",
      "7100,-34083.51281738281,299.93758463653734,8.0\n",
      "7200,-34683.07824707031,302.65303614852724,8.0\n",
      "7300,-33678.43054199219,299.7069854431213,8.0\n",
      "7400,-33966.0673828125,301.801074518397,8.0\n",
      "7500,-34197.919677734375,301.0744579317517,8.0\n",
      "7600,-34746.236083984375,303.71119373593694,8.0\n",
      "7700,-34514.2998046875,303.6119340021252,8.0\n",
      "7800,-34416.72961425781,299.7837524800782,8.0\n",
      "7900,-34347.92041015625,300.5010691345613,8.0\n",
      "8000,-34283.95935058594,297.76309835398513,8.0\n",
      "8100,-35432.53234863281,301.0341051266633,8.0\n",
      "8200,-35389.21667480469,299.92289987043705,8.0\n",
      "8300,-34677.63537597656,299.5597140012781,8.0\n",
      "8400,-34930.86279296875,300.0595872047312,8.0\n",
      "8500,-34019.51965332031,296.9516793674977,8.0\n",
      "8600,-34579.35070800781,302.21089705837414,8.0\n",
      "8700,-34461.756103515625,301.39301399763866,8.0\n",
      "8800,-34382.174255371094,301.3704618207591,8.0\n",
      "8900,-33768.173767089844,301.62220284078603,8.0\n",
      "9000,-34054.82189941406,303.4366935959482,8.0\n",
      "9100,-35108.48352050781,302.2116040663979,8.0\n",
      "9200,-34380.76770019531,301.1805369712016,8.0\n",
      "9300,-35192.187255859375,299.8805556102088,8.0\n",
      "9400,-34730.452209472656,298.07177410103645,8.0\n",
      "9500,-35106.10559082031,300.5894478556852,8.0\n",
      "9600,-34609.336181640625,299.42374330652916,8.0\n",
      "9700,-34757.56677246094,302.38527762656435,8.0\n",
      "9800,-34453.727966308594,300.53783963324526,8.0\n",
      "9900,-35787.66015625,304.2714345282647,8.0\n",
      "10000,-34852.09002685547,299.7518751459035,8.0\n"
     ]
    }
   ],
   "source": [
    "print(\"Running NVT\")\n",
    "simulation.step(10000)"
   ]
  },
  {
   "cell_type": "markdown",
   "id": "ab4943a6-a309-44e5-a9f6-e37e9f3167fc",
   "metadata": {},
   "source": [
    "## minimera efter dynamik"
   ]
  },
  {
   "cell_type": "code",
   "execution_count": 9,
   "id": "ff566840-58f1-476d-9600-93840ac2392f",
   "metadata": {},
   "outputs": [
    {
     "name": "stdout",
     "output_type": "stream",
     "text": [
      "Minimizing energy\n"
     ]
    }
   ],
   "source": [
    "print(\"Minimizing energy\")\n",
    "simulation.minimizeEnergy()"
   ]
  },
  {
   "cell_type": "markdown",
   "id": "090fe4c6-11e4-4182-afcd-fdf13d3fc3b9",
   "metadata": {},
   "source": [
    "## Energi plottat mot step"
   ]
  },
  {
   "cell_type": "code",
   "execution_count": null,
   "id": "e7d70340-68d0-4430-91d1-71cfd4e9c133",
   "metadata": {},
   "outputs": [],
   "source": [
    "import numpy as np\n",
    "import matplotlib.pyplot as plt\n",
    "data = np.loadtxt(\"md_log.txt\", delimiter=',')\n",
    "\n",
    "step = data[:,0]\n",
    "potential_energy = data[:,1]\n",
    "temperature = data[:,2]\n",
    "volume = data[:,3]\n",
    "\n",
    "plt.plot(step, potential_energy)\n",
    "plt.xlabel(\"Step\")\n",
    "plt.ylabel(\"Potential energy (kJ/mol)\")\n",
    "plt.show()\n",
    "plt.plot(step, temperature)\n",
    "plt.xlabel(\"Step\")\n",
    "plt.ylabel(\"Temperature (K)\")\n",
    "plt.show()\n",
    "plt.plot(step, volume)\n",
    "plt.xlabel(\"Step\")\n",
    "plt.ylabel(\"Volume (nm^3)\")\n",
    "plt.show()\n"
   ]
  },
  {
   "cell_type": "markdown",
   "id": "afe3ed6c-1047-4d70-91e4-f2f22df5b583",
   "metadata": {},
   "source": [
    "## sparar resultat från simulation"
   ]
  },
  {
   "cell_type": "code",
   "execution_count": 10,
   "id": "b8f98a41-f471-4880-aafc-8f78d336e01d",
   "metadata": {},
   "outputs": [],
   "source": [
    "positions = simulation.context.getState(getPositions=True).getPositions()\n",
    "PDBFile.writeFile(simulation.topology, positions, open('F153V_F173V_serine_md.pdb', 'w'))"
   ]
  },
  {
   "cell_type": "markdown",
   "id": "afeeabaa-65d6-42d7-a537-b75e4540fd4c",
   "metadata": {},
   "source": [
    "## visulalisering\n"
   ]
  },
  {
   "cell_type": "code",
   "execution_count": null,
   "id": "45bcf63e-dd5a-432a-ba6a-99037f8768c2",
   "metadata": {},
   "outputs": [],
   "source": [
    "import nglview as nv\n",
    "import MDAnalysis as mda"
   ]
  },
  {
   "cell_type": "code",
   "execution_count": null,
   "id": "edaa1d92-47c0-40a0-974e-9b7e6fd1b147",
   "metadata": {},
   "outputs": [],
   "source": [
    "u = mda.Universe(\"output.pdb\", \"output.pdb\")\n",
    "\n",
    "all = u.select_atoms('all')\n",
    "w = nv.show_mdanalysis(all)\n",
    "w.add_representation('licorice',selection=\"10\")\n",
    "\n",
    "w"
   ]
  },
  {
   "cell_type": "code",
   "execution_count": null,
   "id": "f8347acb-2f9d-4ab8-83af-b39bf7dc4914",
   "metadata": {},
   "outputs": [],
   "source": [
    "def show_residues_around(view, component_index=0, selection=\"10\", radius=5.0):\n",
    "    js = (\n",
    "        f\"\"\"\n",
    "        // Get first (and only) loaded component: our protein-ligand system\n",
    "        var system = this.stage.compList[{component_index}];\n",
    "        // Store current selection, we will need it laer\n",
    "        var prevSele = system.selection.string;\n",
    "        // Set selection to our desired ligand\n",
    "        system.setSelection(\"{selection}\");\n",
    "        // Select all atoms within 5A from the ligand\n",
    "        var around = system.structure.getAtomSetWithinSelection(system.selection, {radius});\n",
    "        \"\"\"\n",
    "        \"\"\"\n",
    "        // Extend selection so it includes full residues\n",
    "        var around_complete = system.structure.getAtomSetWithinGroup(around);\n",
    "        // Add representation for those atoms\n",
    "        system.addRepresentation(\"licorice\", {sele: around_complete.toSeleString()});\n",
    "        // Restore selection to original one; otherwise changes won't be reflected\n",
    "        system.setSelection(prevSele)\n",
    "        \"\"\"\n",
    "    )\n",
    "    view._execute_js_code(js)"
   ]
  },
  {
   "cell_type": "code",
   "execution_count": null,
   "id": "56e04a71-cd3d-4371-a38f-79959e64b3d9",
   "metadata": {},
   "outputs": [],
   "source": [
    "view = nv.show_mdanalysis(all)\n",
    "show_residues_around(view)\n",
    "view.add_representation('ball-and-stick',selection=\"10\")\n",
    "view.center(selection=\"10\")\n",
    "view"
   ]
  }
 ],
 "metadata": {
  "kernelspec": {
   "display_name": "kd1500",
   "language": "python",
   "name": "python3"
  },
  "language_info": {
   "codemirror_mode": {
    "name": "ipython",
    "version": 3
   },
   "file_extension": ".py",
   "mimetype": "text/x-python",
   "name": "python",
   "nbconvert_exporter": "python",
   "pygments_lexer": "ipython3",
   "version": "3.12.7"
  }
 },
 "nbformat": 4,
 "nbformat_minor": 5
}
